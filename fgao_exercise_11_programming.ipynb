{
  "cells": [
    {
      "cell_type": "markdown",
      "metadata": {
        "id": "CCnFgzic3kRs"
      },
      "source": [
        "# Programming Exercise Week 10"
      ]
    },
    {
      "cell_type": "markdown",
      "metadata": {
        "id": "irMSxPmX3kRt"
      },
      "source": [
        "You can download the data [here](https://drive.google.com/file/d/1dpuJKyX6vvSRGDTiRRHsk5OChK23joRA/view?usp=share_link). Please do not hesitate to contact Xiaochen Zheng by [this email](mailto:xzheng@ethz.ch) if you have any question."
      ]
    },
    {
      "cell_type": "markdown",
      "metadata": {
        "id": "7PDYT1AN3kRu"
      },
      "source": [
        "The path to your data folder, where the data is saved:"
      ]
    },
    {
      "cell_type": "code",
      "execution_count": 2,
      "metadata": {
        "id": "mychvOTUu3sI"
      },
      "outputs": [],
      "source": [
        "pwd = '/content/drive/MyDrive/data'"
      ]
    },
    {
      "cell_type": "code",
      "source": [
        "from google.colab import drive\n",
        "drive.mount('/content/drive')"
      ],
      "metadata": {
        "colab": {
          "base_uri": "https://localhost:8080/"
        },
        "id": "We8zRtCNNwg8",
        "outputId": "d475d1d0-e22f-49aa-efa2-ef3009b8de2f"
      },
      "execution_count": 1,
      "outputs": [
        {
          "output_type": "stream",
          "name": "stdout",
          "text": [
            "Mounted at /content/drive\n"
          ]
        }
      ]
    },
    {
      "cell_type": "markdown",
      "metadata": {
        "id": "1RuMQ6Vr3kRv"
      },
      "source": [
        "We will use a special package to load and investigate the dataset, the [pandas](https://pandas.pydata.org/docs/) library. Take a look at the documentation to see all the options!"
      ]
    },
    {
      "cell_type": "code",
      "execution_count": 3,
      "metadata": {
        "id": "MX-mQoHMu0Vc"
      },
      "outputs": [],
      "source": [
        "import os\n",
        "import pandas as pd    # Package to load and investigate data"
      ]
    },
    {
      "cell_type": "markdown",
      "metadata": {
        "id": "tg7B2PQX8GID"
      },
      "source": [
        "## Dataset description\n",
        "\n",
        "In this exercise, we want to design a machine learning/deep learning algorithm to help determine/predict whether a patient is non-diabetic (int `0`) or diabetic (int `1`). Each patient is identified with a unique patient ID (pid). In `full_data_train.csv`, medical, demographic, and diagnosis data for each patient is arranged in 20 consecutive rows. Research has identified the following as **important risk factors** for diabetes:\n",
        "\n",
        "```high blood pressure, high cholesterol, smoking, obesity, age and sex, race, diet, exercise, alcohol consumption, BMI, household income, marital status, sleep, time since last checkup, education, health care coverage, mental Health```\n",
        "\n",
        "Given these risk factors, we selected features from a open survey of diabetes related to these risk factors.\n",
        "\n",
        "\n",
        "### Features\n",
        "\n",
        "`Diabetes_binary`\n",
        "\n",
        "(Ever diagonsed) diabetes \n",
        "\n",
        "`HighBP` -> `Bool`\n",
        "\n",
        "High Blood Pressure\n",
        "\n",
        "`HighChol` -> `Bool`\n",
        "\n",
        "High Cholesterol\n",
        "\n",
        "`CholCheck` -> `Bool`\n",
        "\n",
        "Cholesterol check within past five years\n",
        "\n",
        "`BMI` -> `Float`\n",
        "\n",
        "Body Mass Index (BMI)\n",
        "\n",
        "`Smoker` -> `Bool`\n",
        "\n",
        "Have you smoked at least 100 cigarettes (5 packs) in your entire life? \n",
        "\n",
        "`Stroke` -> `Bool`\n",
        "\n",
        "(Ever diagosed) stroke. \n",
        "\n",
        "`HeartDiseaseorAttack` -> `Bool`\n",
        "\n",
        "Respondents that have ever reported having coronary heart disease (CHD) or myocardial infarction (MI)\n",
        "\n",
        "`PhysActivity` -> `Bool`\n",
        "\n",
        "Adults who reported doing physical activity or exercise during the past 30 days other than their regular job\n",
        "\n",
        "`Fruits` -> `Bool`\n",
        "\n",
        "Consume Fruit 1 or more times per day \n",
        "\n",
        "`Veggies` -> `Bool`\n",
        "\n",
        "Consume Vegetables 1 or more times per day \n",
        "\n",
        "`HvyAlcoholConsump` -> `Bool`\n",
        "\n",
        "Heavy drinkers (adult men having more than 14 drinks per week and adult women having more than 7 drinks per week)\n",
        "\n",
        "`AnyHealthcare` -> `Bool`\n",
        "\n",
        "Do you have any kind of health care coverage, including health insurance, prepaid plans such as HMOs, or government plans such as Medicare, or Indian Health Service? \n",
        "\n",
        "`NoDocbcCost` -> `Bool`\n",
        "\n",
        "Was there a time in the past 12 months when you needed to see a doctor but could not because of cost?\n",
        "\n",
        "`GenHlth` -> `Int`\n",
        "\n",
        "Would you say that in general your health is between 5 (highest) and 1 (lowest).\n",
        "\n",
        "`MentHlth` -> `Int`\n",
        "\n",
        "Now thinking about your mental health, which includes stress, depression, and problems with emotions, for how many days during the past 30 days was your mental health not good? \n",
        "\n",
        "`PhysHlth` -> `Int`\n",
        "\n",
        "Now thinking about your physical health, which includes physical illness and injury, for how many days during the past 30 days was your physical health not good? \n",
        "\n",
        "`DiffWalk` -> `Int`\n",
        "\n",
        "Do you have serious difficulty walking or climbing stairs? \n",
        "\n",
        "\n",
        "`Sex`, and `Age` -> `Int`\n",
        "\n",
        "`Education` -> `Int`\n",
        "\n",
        "This is already an ordinal variable with 1 being never attended school or kindergarten only up to 6 being college 4 years or more\n",
        "\n",
        "\n",
        "`Income` -> `Int`\n",
        "\n",
        "Variable is already ordinal with 1 being less than \\$10,000 all the way up to 8 being \\$75,000 or more"
      ]
    },
    {
      "cell_type": "markdown",
      "metadata": {
        "id": "kksZugxTuYXv"
      },
      "source": [
        "### Load the data "
      ]
    },
    {
      "cell_type": "code",
      "execution_count": 15,
      "metadata": {
        "id": "e8wTKmJ1uXaY"
      },
      "outputs": [],
      "source": [
        "# Training dataset\n",
        "full_train = pd.read_csv(os.path.join(pwd, 'full_data_train.csv'))\n",
        "# Test dataset\n",
        "X_test = pd.read_csv(os.path.join(pwd, 'indicators_test.csv'))\n",
        "y_test = pd.read_csv(os.path.join(pwd, 'y_test.csv'))"
      ]
    },
    {
      "cell_type": "markdown",
      "metadata": {
        "id": "MyTpnXjqw647"
      },
      "source": [
        "### Check the raw data\n",
        "\n",
        "Use ```pandas.DataFrame.info``` to describe null values, data type, memory usage"
      ]
    },
    {
      "cell_type": "code",
      "execution_count": 16,
      "metadata": {
        "id": "6cDNf9U1vFHI",
        "colab": {
          "base_uri": "https://localhost:8080/"
        },
        "outputId": "becfe9ec-3218-4d36-df5c-587a3ab10d00"
      },
      "outputs": [
        {
          "output_type": "stream",
          "name": "stdout",
          "text": [
            "<class 'pandas.core.frame.DataFrame'>\n",
            "RangeIndex: 228312 entries, 0 to 228311\n",
            "Data columns (total 23 columns):\n",
            " #   Column                Non-Null Count   Dtype  \n",
            "---  ------                --------------   -----  \n",
            " 0   PID                   228312 non-null  int64  \n",
            " 1   Diabetes_binary       228312 non-null  float64\n",
            " 2   HighBP                228312 non-null  float64\n",
            " 3   HighChol              228312 non-null  float64\n",
            " 4   CholCheck             228312 non-null  float64\n",
            " 5   BMI                   228312 non-null  float64\n",
            " 6   Smoker                228312 non-null  float64\n",
            " 7   Stroke                228312 non-null  float64\n",
            " 8   HeartDiseaseorAttack  228312 non-null  float64\n",
            " 9   PhysActivity          228312 non-null  float64\n",
            " 10  Fruits                228312 non-null  float64\n",
            " 11  Veggies               228312 non-null  float64\n",
            " 12  HvyAlcoholConsump     228312 non-null  float64\n",
            " 13  AnyHealthcare         228312 non-null  float64\n",
            " 14  NoDocbcCost           228312 non-null  float64\n",
            " 15  GenHlth               228312 non-null  float64\n",
            " 16  MentHlth              228312 non-null  float64\n",
            " 17  PhysHlth              228312 non-null  float64\n",
            " 18  DiffWalk              228312 non-null  float64\n",
            " 19  Sex                   228312 non-null  float64\n",
            " 20  Age                   228312 non-null  float64\n",
            " 21  Education             228312 non-null  float64\n",
            " 22  Income                228312 non-null  float64\n",
            "dtypes: float64(22), int64(1)\n",
            "memory usage: 40.1 MB\n"
          ]
        }
      ],
      "source": [
        "full_train.info()"
      ]
    },
    {
      "cell_type": "code",
      "execution_count": 17,
      "metadata": {
        "id": "mkr96I8jw86V",
        "colab": {
          "base_uri": "https://localhost:8080/"
        },
        "outputId": "971af012-ef96-402d-bbd4-97b261594b47"
      },
      "outputs": [
        {
          "output_type": "stream",
          "name": "stdout",
          "text": [
            "<class 'pandas.core.frame.DataFrame'>\n",
            "RangeIndex: 25368 entries, 0 to 25367\n",
            "Data columns (total 22 columns):\n",
            " #   Column                Non-Null Count  Dtype  \n",
            "---  ------                --------------  -----  \n",
            " 0   PID                   25368 non-null  int64  \n",
            " 1   HighBP                25368 non-null  float64\n",
            " 2   HighChol              25368 non-null  float64\n",
            " 3   CholCheck             25368 non-null  float64\n",
            " 4   BMI                   25368 non-null  float64\n",
            " 5   Smoker                25368 non-null  float64\n",
            " 6   Stroke                25368 non-null  float64\n",
            " 7   HeartDiseaseorAttack  25368 non-null  float64\n",
            " 8   PhysActivity          25368 non-null  float64\n",
            " 9   Fruits                25368 non-null  float64\n",
            " 10  Veggies               25368 non-null  float64\n",
            " 11  HvyAlcoholConsump     25368 non-null  float64\n",
            " 12  AnyHealthcare         25368 non-null  float64\n",
            " 13  NoDocbcCost           25368 non-null  float64\n",
            " 14  GenHlth               25368 non-null  float64\n",
            " 15  MentHlth              25368 non-null  float64\n",
            " 16  PhysHlth              25368 non-null  float64\n",
            " 17  DiffWalk              25368 non-null  float64\n",
            " 18  Sex                   25368 non-null  float64\n",
            " 19  Age                   25368 non-null  float64\n",
            " 20  Education             25368 non-null  float64\n",
            " 21  Income                25368 non-null  float64\n",
            "dtypes: float64(21), int64(1)\n",
            "memory usage: 4.3 MB\n"
          ]
        }
      ],
      "source": [
        "X_test.info()"
      ]
    },
    {
      "cell_type": "code",
      "source": [
        "y_test.info()"
      ],
      "metadata": {
        "id": "gpsgZidmNTs8",
        "colab": {
          "base_uri": "https://localhost:8080/"
        },
        "outputId": "03d63b53-1412-4078-d95d-b712d4887c43"
      },
      "execution_count": 18,
      "outputs": [
        {
          "output_type": "stream",
          "name": "stdout",
          "text": [
            "<class 'pandas.core.frame.DataFrame'>\n",
            "RangeIndex: 25368 entries, 0 to 25367\n",
            "Data columns (total 2 columns):\n",
            " #   Column           Non-Null Count  Dtype  \n",
            "---  ------           --------------  -----  \n",
            " 0   PID              25368 non-null  int64  \n",
            " 1   Diabetes_binary  25368 non-null  float64\n",
            "dtypes: float64(1), int64(1)\n",
            "memory usage: 396.5 KB\n"
          ]
        }
      ]
    },
    {
      "cell_type": "markdown",
      "metadata": {
        "id": "sufPBth2xCG-"
      },
      "source": [
        "## Data Preprocessing\n",
        "Take a look at the raw data and think carefully about what kinds of data preprocessing methods needed."
      ]
    },
    {
      "cell_type": "code",
      "execution_count": 19,
      "metadata": {
        "id": "hoO8N_LWxJe-",
        "colab": {
          "base_uri": "https://localhost:8080/",
          "height": 35
        },
        "outputId": "23859ce4-c7ce-4d72-8d71-29a3e38298c5"
      },
      "outputs": [
        {
          "output_type": "execute_result",
          "data": {
            "text/plain": [
              "'*** YOUR CODE HERE. ***'"
            ],
            "application/vnd.google.colaboratory.intrinsic+json": {
              "type": "string"
            }
          },
          "metadata": {},
          "execution_count": 19
        }
      ],
      "source": [
        "# You do not necessarily need to do anything here, this is just to provide some space to look at the dataset's properties and contents.\n",
        "\"*** YOUR CODE HERE. ***\""
      ]
    },
    {
      "cell_type": "markdown",
      "metadata": {
        "id": "zqw6N2xU3kRy"
      },
      "source": [
        "### Task 1\n",
        "Notice that there is one column name **PID** in both *full_train* and *X_test*. Why should we better remove this from the data?"
      ]
    },
    {
      "cell_type": "markdown",
      "metadata": {
        "id": "1qwfuz_t3kRy"
      },
      "source": [
        "Your Answer: Because \"PID\" stands for \"patient ID\", which is irrelevant to determining/predicting whether a patient is diabetic or not."
      ]
    },
    {
      "cell_type": "markdown",
      "metadata": {
        "id": "2Ey4LSb33kRy"
      },
      "source": [
        "### Task 2\n",
        " Use the pandas `drop` function to remove the PID column in test and training set"
      ]
    },
    {
      "cell_type": "code",
      "execution_count": 20,
      "metadata": {
        "id": "ZvMi-6Lh3kRy"
      },
      "outputs": [],
      "source": [
        "full_train = full_train.drop(['PID'], axis=1)\n",
        "X_test = X_test.drop(['PID'], axis=1)"
      ]
    },
    {
      "cell_type": "markdown",
      "metadata": {
        "id": "cxbW8_zT3kRy"
      },
      "source": [
        "### Task 3\n",
        "Separate the labels in the column `Diabetes_binary` from the training set and create a new tensor `y_train` and `y_test` containing the labels"
      ]
    },
    {
      "cell_type": "code",
      "execution_count": 21,
      "metadata": {
        "id": "6t_IKIB63kRz"
      },
      "outputs": [],
      "source": [
        "X_train = full_train.drop(['Diabetes_binary'], axis=1).to_numpy()\n",
        "y_train = full_train['Diabetes_binary'].to_numpy()\n",
        "X_test = X_test.to_numpy()\n",
        "y_test = y_test['Diabetes_binary'].to_numpy()"
      ]
    },
    {
      "cell_type": "markdown",
      "metadata": {
        "id": "LzHdDVFn6G-e"
      },
      "source": [
        "### Task 4 - Standardization Scaling\n",
        "Notice that different features have different scales. For example, `BMI` ranges from 12.0 to 98.0 and `Age` ranges from 1.0 to 13.0. Normalization is a data preparation technique that is frequently used in machine learning to deal with data with different scales.\n",
        "\n",
        "Here you will apply **standardization scaling**. The term **standardization** refers to the process of centering a variable at zero and standardizing the variance at one. Subtracting the mean of each observation and then dividing by the standard deviation is the procedure. The features will be rescaled so that they have the attributes of a typical normal distribution with standard deviations.\n",
        "\n",
        "***Hint***: Use `numpy` or `Standardscaler` provided by `sklearn`"
      ]
    },
    {
      "cell_type": "code",
      "execution_count": 22,
      "metadata": {
        "id": "y4QiZ88gxaj1"
      },
      "outputs": [],
      "source": [
        "import numpy as np\n",
        "from sklearn.preprocessing import StandardScaler\n",
        "\n",
        "stdScaler = StandardScaler()\n",
        "X_train = stdScaler.fit_transform(X_train)"
      ]
    },
    {
      "cell_type": "markdown",
      "metadata": {
        "id": "ui8yvjJn3kRz"
      },
      "source": [
        "### Task 5 - Data Structure\n",
        "By applying `pd.read_csv()`, you store your data in `pandas.DataFrame`. After finishing task 4, you should store your data in `numpy.ndarray`. But for `torch.nn.Module`, you need to transfer your data to the data type `torch.Tensor`.\n",
        "\n",
        "***Hint***: Try to learn and apply [torch.from_numpy()](https://pytorch.org/docs/stable/generated/torch.from_numpy.html), [torch.Tensor.to()](https://pytorch.org/docs/stable/generated/torch.Tensor.to.html), [torch.tensor()](https://pytorch.org/docs/stable/generated/torch.tensor.html).\n",
        "\n",
        "Transform the variables `X_train`, `X_test`, `y_train` and `y_test`"
      ]
    },
    {
      "cell_type": "code",
      "execution_count": 23,
      "metadata": {
        "id": "S2DPt5G23kRz"
      },
      "outputs": [],
      "source": [
        "import torch\n",
        "\n",
        "X_train = torch.from_numpy(X_train).to(dtype=torch.float)\n",
        "y_train = torch.from_numpy(y_train).to(dtype=torch.long)\n",
        "\n",
        "X_test = torch.from_numpy(X_test).to(dtype=torch.float)\n",
        "y_test = torch.from_numpy(y_test).to(dtype=torch.long)"
      ]
    },
    {
      "cell_type": "markdown",
      "metadata": {
        "id": "BWnI2naSnBAE"
      },
      "source": [
        "## Deep learning model"
      ]
    },
    {
      "cell_type": "markdown",
      "metadata": {
        "id": "9GpGc1_U3kRz"
      },
      "source": [
        "### Task 6\n",
        "Finish the deep learning skeleton step-by-step.\n",
        "\n",
        "***Hint***: \n",
        "\n",
        "(1) Implement a multilayer perceptron with several [linear layers](https://pytorch.org/docs/stable/generated/torch.nn.Linear.html) (e.g. 4 linear layers) followed by [relu activation](https://pytorch.org/docs/stable/generated/torch.nn.ReLU.html#torch.nn.ReLU). We show you an example of the first layer.\n",
        "\n",
        "(2) Take regularization into account and implement certain layers to avoid overfitting. e.g. dropout\n",
        "\n",
        "(3) Make sure that the output's size of one layer should match the input's size of the following/subsequent layer by checking `tensor.shape`.\n",
        "\n",
        "(4) Make sure that your model's output should have the size of ($N$, 2), where $N$ is the batch size. 2 represents the possible outcome state of the model e.g. diabetic or non-diabetic\n",
        "\n"
      ]
    },
    {
      "cell_type": "code",
      "execution_count": 24,
      "metadata": {
        "id": "GLD1xE4lvY55"
      },
      "outputs": [],
      "source": [
        "from torch import nn\n",
        "class YourModel(torch.nn.Module):\n",
        "    \"\"\" Your model should inherite from torch.nn.Module.\n",
        "    \"\"\"\n",
        "    def __init__(self):\n",
        "        super().__init__()\n",
        "        # Fully-connected (dense) layers\n",
        "        self.fc1 = nn.Linear(21 , 64 )\n",
        "        self.fc2 = nn.Linear(64 , 512)\n",
        "        self.fc3 = nn.Linear(512, 512)\n",
        "        self.fc4 = nn.Linear(512, 2  )\n",
        "        # Drop-out layers\n",
        "        self.dropout = nn.Dropout(0.1)\n",
        "\n",
        "    def forward(self, x):\n",
        "        '''Forward pass.'''\n",
        "        x = self.fc1(x)\n",
        "        x = nn.functional.relu(x)\n",
        "        x = self.dropout(x)\n",
        "        x = self.fc2(x)\n",
        "        x = nn.functional.relu(x)\n",
        "        x = self.dropout(x)\n",
        "        x = self.fc3(x)\n",
        "        x = nn.functional.relu(x)\n",
        "        x = self.dropout(x)\n",
        "        x = self.fc4(x)\n",
        "        x = nn.functional.relu(x)\n",
        "        return x"
      ]
    },
    {
      "cell_type": "code",
      "execution_count": 25,
      "metadata": {
        "id": "huZG0JaA3kR0"
      },
      "outputs": [],
      "source": [
        "def train(model, train_loader, criterion, optimizer, epoch):\n",
        "    model.train()\n",
        "    # Iterate over the DataLoader for training data\n",
        "    for batch_idx, (data, target) in enumerate(train_loader):\n",
        "        # Zero the gradients\n",
        "        optimizer.zero_grad()\n",
        "        # Perform forward pass\n",
        "        outputs = model(data)\n",
        "        # Compute loss\n",
        "        loss = criterion(outputs, target)\n",
        "        # Perform backward pass\n",
        "        loss.backward()\n",
        "        # Perform optimization\n",
        "        optimizer.step()\n",
        "        # Printing\n",
        "        if batch_idx % 100 == 0:\n",
        "            print('Train Epoch: {} [{}/{} ({:.0f}%)]\\tLoss: {:.6f}'.format(\n",
        "                epoch, batch_idx * len(data), len(train_loader.dataset),\n",
        "                100. * batch_idx / len(train_loader), loss.item()))\n",
        "\n",
        "\n",
        "def test(model, test_loader, criterion):\n",
        "    model.eval()\n",
        "    test_loss = 0\n",
        "    correct = 0\n",
        "    with torch.no_grad():\n",
        "        for data, target in test_loader:\n",
        "            output = model(data)\n",
        "            test_loss += criterion(output, target).item()  # sum up batch loss\n",
        "            pred = output.argmax(dim=1, keepdim=True)  # get the index of the max log-probability\n",
        "            correct += pred.eq(target.view_as(pred)).sum().item()\n",
        "\n",
        "    test_loss /= len(test_loader.dataset)\n",
        "    test_accuracy = 100. * correct / len(test_loader.dataset)\n",
        "    print('\\nTest set: Average loss: {:.4f}, Accuracy: {}/{} ({:.0f}%)\\n'.format(\n",
        "        test_loss, correct, len(test_loader.dataset), test_accuracy))\n",
        "    \n",
        "    return test_loss, test_accuracy"
      ]
    },
    {
      "cell_type": "code",
      "execution_count": 26,
      "metadata": {
        "id": "J6u1Y64wWxHb",
        "colab": {
          "base_uri": "https://localhost:8080/"
        },
        "outputId": "c08d49f9-2e5e-4343-f54c-b17d38dac1ff"
      },
      "outputs": [
        {
          "output_type": "stream",
          "name": "stdout",
          "text": [
            "Starting epoch 1\n",
            "Train Epoch: 1 [0/228312 (0%)]\tLoss: 0.698828\n",
            "Train Epoch: 1 [25600/228312 (11%)]\tLoss: 0.356995\n",
            "Train Epoch: 1 [51200/228312 (22%)]\tLoss: 0.289147\n",
            "Train Epoch: 1 [76800/228312 (34%)]\tLoss: 0.333199\n",
            "Train Epoch: 1 [102400/228312 (45%)]\tLoss: 0.346933\n",
            "Train Epoch: 1 [128000/228312 (56%)]\tLoss: 0.300793\n",
            "Train Epoch: 1 [153600/228312 (67%)]\tLoss: 0.328935\n",
            "Train Epoch: 1 [179200/228312 (78%)]\tLoss: 0.336842\n",
            "Train Epoch: 1 [204800/228312 (90%)]\tLoss: 0.234472\n",
            "\n",
            "Test set: Average loss: 0.6751, Accuracy: 21752/25368 (86%)\n",
            "\n",
            "Starting epoch 2\n",
            "Train Epoch: 2 [0/228312 (0%)]\tLoss: 0.299164\n",
            "Train Epoch: 2 [25600/228312 (11%)]\tLoss: 0.262333\n",
            "Train Epoch: 2 [51200/228312 (22%)]\tLoss: 0.338873\n",
            "Train Epoch: 2 [76800/228312 (34%)]\tLoss: 0.280064\n",
            "Train Epoch: 2 [102400/228312 (45%)]\tLoss: 0.335847\n",
            "Train Epoch: 2 [128000/228312 (56%)]\tLoss: 0.281099\n",
            "Train Epoch: 2 [153600/228312 (67%)]\tLoss: 0.314652\n",
            "Train Epoch: 2 [179200/228312 (78%)]\tLoss: 0.378633\n",
            "Train Epoch: 2 [204800/228312 (90%)]\tLoss: 0.321737\n",
            "\n",
            "Test set: Average loss: 0.6381, Accuracy: 21752/25368 (86%)\n",
            "\n",
            "Starting epoch 3\n",
            "Train Epoch: 3 [0/228312 (0%)]\tLoss: 0.323255\n",
            "Train Epoch: 3 [25600/228312 (11%)]\tLoss: 0.247864\n",
            "Train Epoch: 3 [51200/228312 (22%)]\tLoss: 0.239894\n",
            "Train Epoch: 3 [76800/228312 (34%)]\tLoss: 0.326055\n",
            "Train Epoch: 3 [102400/228312 (45%)]\tLoss: 0.288789\n",
            "Train Epoch: 3 [128000/228312 (56%)]\tLoss: 0.324559\n",
            "Train Epoch: 3 [153600/228312 (67%)]\tLoss: 0.355841\n",
            "Train Epoch: 3 [179200/228312 (78%)]\tLoss: 0.289451\n",
            "Train Epoch: 3 [204800/228312 (90%)]\tLoss: 0.342694\n",
            "\n",
            "Test set: Average loss: 0.5610, Accuracy: 21752/25368 (86%)\n",
            "\n",
            "Starting epoch 4\n",
            "Train Epoch: 4 [0/228312 (0%)]\tLoss: 0.323870\n",
            "Train Epoch: 4 [25600/228312 (11%)]\tLoss: 0.284406\n",
            "Train Epoch: 4 [51200/228312 (22%)]\tLoss: 0.335442\n",
            "Train Epoch: 4 [76800/228312 (34%)]\tLoss: 0.217692\n",
            "Train Epoch: 4 [102400/228312 (45%)]\tLoss: 0.324811\n",
            "Train Epoch: 4 [128000/228312 (56%)]\tLoss: 0.341192\n",
            "Train Epoch: 4 [153600/228312 (67%)]\tLoss: 0.311476\n",
            "Train Epoch: 4 [179200/228312 (78%)]\tLoss: 0.335366\n",
            "Train Epoch: 4 [204800/228312 (90%)]\tLoss: 0.299878\n",
            "\n",
            "Test set: Average loss: 0.5712, Accuracy: 21752/25368 (86%)\n",
            "\n",
            "Starting epoch 5\n",
            "Train Epoch: 5 [0/228312 (0%)]\tLoss: 0.243726\n",
            "Train Epoch: 5 [25600/228312 (11%)]\tLoss: 0.281117\n",
            "Train Epoch: 5 [51200/228312 (22%)]\tLoss: 0.307327\n",
            "Train Epoch: 5 [76800/228312 (34%)]\tLoss: 0.309370\n",
            "Train Epoch: 5 [102400/228312 (45%)]\tLoss: 0.307314\n",
            "Train Epoch: 5 [128000/228312 (56%)]\tLoss: 0.390351\n",
            "Train Epoch: 5 [153600/228312 (67%)]\tLoss: 0.376346\n",
            "Train Epoch: 5 [179200/228312 (78%)]\tLoss: 0.319144\n",
            "Train Epoch: 5 [204800/228312 (90%)]\tLoss: 0.301466\n",
            "\n",
            "Test set: Average loss: 0.4738, Accuracy: 21752/25368 (86%)\n",
            "\n",
            "Starting epoch 6\n",
            "Train Epoch: 6 [0/228312 (0%)]\tLoss: 0.372805\n",
            "Train Epoch: 6 [25600/228312 (11%)]\tLoss: 0.415090\n",
            "Train Epoch: 6 [51200/228312 (22%)]\tLoss: 0.277159\n",
            "Train Epoch: 6 [76800/228312 (34%)]\tLoss: 0.284099\n",
            "Train Epoch: 6 [102400/228312 (45%)]\tLoss: 0.363858\n",
            "Train Epoch: 6 [128000/228312 (56%)]\tLoss: 0.325516\n",
            "Train Epoch: 6 [153600/228312 (67%)]\tLoss: 0.349740\n",
            "Train Epoch: 6 [179200/228312 (78%)]\tLoss: 0.276478\n",
            "Train Epoch: 6 [204800/228312 (90%)]\tLoss: 0.323892\n",
            "\n",
            "Test set: Average loss: 0.5019, Accuracy: 21752/25368 (86%)\n",
            "\n",
            "Starting epoch 7\n",
            "Train Epoch: 7 [0/228312 (0%)]\tLoss: 0.317231\n",
            "Train Epoch: 7 [25600/228312 (11%)]\tLoss: 0.308309\n",
            "Train Epoch: 7 [51200/228312 (22%)]\tLoss: 0.311735\n",
            "Train Epoch: 7 [76800/228312 (34%)]\tLoss: 0.348885\n",
            "Train Epoch: 7 [102400/228312 (45%)]\tLoss: 0.290333\n",
            "Train Epoch: 7 [128000/228312 (56%)]\tLoss: 0.329527\n",
            "Train Epoch: 7 [153600/228312 (67%)]\tLoss: 0.333195\n",
            "Train Epoch: 7 [179200/228312 (78%)]\tLoss: 0.294724\n",
            "Train Epoch: 7 [204800/228312 (90%)]\tLoss: 0.296498\n",
            "\n",
            "Test set: Average loss: 0.5126, Accuracy: 21752/25368 (86%)\n",
            "\n",
            "Starting epoch 8\n",
            "Train Epoch: 8 [0/228312 (0%)]\tLoss: 0.336941\n",
            "Train Epoch: 8 [25600/228312 (11%)]\tLoss: 0.330132\n",
            "Train Epoch: 8 [51200/228312 (22%)]\tLoss: 0.292406\n",
            "Train Epoch: 8 [76800/228312 (34%)]\tLoss: 0.354362\n",
            "Train Epoch: 8 [102400/228312 (45%)]\tLoss: 0.274018\n",
            "Train Epoch: 8 [128000/228312 (56%)]\tLoss: 0.326225\n",
            "Train Epoch: 8 [153600/228312 (67%)]\tLoss: 0.248149\n",
            "Train Epoch: 8 [179200/228312 (78%)]\tLoss: 0.271409\n",
            "Train Epoch: 8 [204800/228312 (90%)]\tLoss: 0.299600\n",
            "\n",
            "Test set: Average loss: 0.5340, Accuracy: 21752/25368 (86%)\n",
            "\n",
            "Starting epoch 9\n",
            "Train Epoch: 9 [0/228312 (0%)]\tLoss: 0.295009\n",
            "Train Epoch: 9 [25600/228312 (11%)]\tLoss: 0.283828\n",
            "Train Epoch: 9 [51200/228312 (22%)]\tLoss: 0.255630\n",
            "Train Epoch: 9 [76800/228312 (34%)]\tLoss: 0.291777\n",
            "Train Epoch: 9 [102400/228312 (45%)]\tLoss: 0.311599\n",
            "Train Epoch: 9 [128000/228312 (56%)]\tLoss: 0.350647\n",
            "Train Epoch: 9 [153600/228312 (67%)]\tLoss: 0.367048\n",
            "Train Epoch: 9 [179200/228312 (78%)]\tLoss: 0.369927\n",
            "Train Epoch: 9 [204800/228312 (90%)]\tLoss: 0.343237\n",
            "\n",
            "Test set: Average loss: 0.5157, Accuracy: 21752/25368 (86%)\n",
            "\n",
            "Starting epoch 10\n",
            "Train Epoch: 10 [0/228312 (0%)]\tLoss: 0.331876\n",
            "Train Epoch: 10 [25600/228312 (11%)]\tLoss: 0.292656\n",
            "Train Epoch: 10 [51200/228312 (22%)]\tLoss: 0.312707\n",
            "Train Epoch: 10 [76800/228312 (34%)]\tLoss: 0.249366\n",
            "Train Epoch: 10 [102400/228312 (45%)]\tLoss: 0.340893\n",
            "Train Epoch: 10 [128000/228312 (56%)]\tLoss: 0.261034\n",
            "Train Epoch: 10 [153600/228312 (67%)]\tLoss: 0.353523\n",
            "Train Epoch: 10 [179200/228312 (78%)]\tLoss: 0.311876\n",
            "Train Epoch: 10 [204800/228312 (90%)]\tLoss: 0.328261\n",
            "\n",
            "Test set: Average loss: 0.4588, Accuracy: 21752/25368 (86%)\n",
            "\n",
            "Starting epoch 11\n",
            "Train Epoch: 11 [0/228312 (0%)]\tLoss: 0.339848\n",
            "Train Epoch: 11 [25600/228312 (11%)]\tLoss: 0.304059\n",
            "Train Epoch: 11 [51200/228312 (22%)]\tLoss: 0.318451\n",
            "Train Epoch: 11 [76800/228312 (34%)]\tLoss: 0.298296\n",
            "Train Epoch: 11 [102400/228312 (45%)]\tLoss: 0.276971\n",
            "Train Epoch: 11 [128000/228312 (56%)]\tLoss: 0.364815\n",
            "Train Epoch: 11 [153600/228312 (67%)]\tLoss: 0.275757\n",
            "Train Epoch: 11 [179200/228312 (78%)]\tLoss: 0.270991\n",
            "Train Epoch: 11 [204800/228312 (90%)]\tLoss: 0.348953\n",
            "\n",
            "Test set: Average loss: 0.5183, Accuracy: 20489/25368 (81%)\n",
            "\n",
            "Starting epoch 12\n",
            "Train Epoch: 12 [0/228312 (0%)]\tLoss: 0.332004\n",
            "Train Epoch: 12 [25600/228312 (11%)]\tLoss: 0.357995\n",
            "Train Epoch: 12 [51200/228312 (22%)]\tLoss: 0.275933\n",
            "Train Epoch: 12 [76800/228312 (34%)]\tLoss: 0.323978\n",
            "Train Epoch: 12 [102400/228312 (45%)]\tLoss: 0.360924\n",
            "Train Epoch: 12 [128000/228312 (56%)]\tLoss: 0.301671\n",
            "Train Epoch: 12 [153600/228312 (67%)]\tLoss: 0.408901\n",
            "Train Epoch: 12 [179200/228312 (78%)]\tLoss: 0.354808\n",
            "Train Epoch: 12 [204800/228312 (90%)]\tLoss: 0.294630\n",
            "\n",
            "Test set: Average loss: 0.5171, Accuracy: 20392/25368 (80%)\n",
            "\n",
            "Starting epoch 13\n",
            "Train Epoch: 13 [0/228312 (0%)]\tLoss: 0.326570\n",
            "Train Epoch: 13 [25600/228312 (11%)]\tLoss: 0.298332\n",
            "Train Epoch: 13 [51200/228312 (22%)]\tLoss: 0.343597\n",
            "Train Epoch: 13 [76800/228312 (34%)]\tLoss: 0.329869\n",
            "Train Epoch: 13 [102400/228312 (45%)]\tLoss: 0.345181\n",
            "Train Epoch: 13 [128000/228312 (56%)]\tLoss: 0.287004\n",
            "Train Epoch: 13 [153600/228312 (67%)]\tLoss: 0.355738\n",
            "Train Epoch: 13 [179200/228312 (78%)]\tLoss: 0.298144\n",
            "Train Epoch: 13 [204800/228312 (90%)]\tLoss: 0.287252\n",
            "\n",
            "Test set: Average loss: 0.5486, Accuracy: 20594/25368 (81%)\n",
            "\n",
            "Starting epoch 14\n",
            "Train Epoch: 14 [0/228312 (0%)]\tLoss: 0.359496\n",
            "Train Epoch: 14 [25600/228312 (11%)]\tLoss: 0.308943\n",
            "Train Epoch: 14 [51200/228312 (22%)]\tLoss: 0.321656\n",
            "Train Epoch: 14 [76800/228312 (34%)]\tLoss: 0.289550\n",
            "Train Epoch: 14 [102400/228312 (45%)]\tLoss: 0.334464\n",
            "Train Epoch: 14 [128000/228312 (56%)]\tLoss: 0.344292\n",
            "Train Epoch: 14 [153600/228312 (67%)]\tLoss: 0.330495\n",
            "Train Epoch: 14 [179200/228312 (78%)]\tLoss: 0.361830\n",
            "Train Epoch: 14 [204800/228312 (90%)]\tLoss: 0.273754\n",
            "\n",
            "Test set: Average loss: 0.5286, Accuracy: 20613/25368 (81%)\n",
            "\n",
            "Starting epoch 15\n",
            "Train Epoch: 15 [0/228312 (0%)]\tLoss: 0.293425\n",
            "Train Epoch: 15 [25600/228312 (11%)]\tLoss: 0.339319\n",
            "Train Epoch: 15 [51200/228312 (22%)]\tLoss: 0.398233\n",
            "Train Epoch: 15 [76800/228312 (34%)]\tLoss: 0.322344\n",
            "Train Epoch: 15 [102400/228312 (45%)]\tLoss: 0.332508\n",
            "Train Epoch: 15 [128000/228312 (56%)]\tLoss: 0.306486\n",
            "Train Epoch: 15 [153600/228312 (67%)]\tLoss: 0.339606\n",
            "Train Epoch: 15 [179200/228312 (78%)]\tLoss: 0.370809\n",
            "Train Epoch: 15 [204800/228312 (90%)]\tLoss: 0.290274\n",
            "\n",
            "Test set: Average loss: 0.5306, Accuracy: 20143/25368 (79%)\n",
            "\n",
            "Starting epoch 16\n",
            "Train Epoch: 16 [0/228312 (0%)]\tLoss: 0.280829\n",
            "Train Epoch: 16 [25600/228312 (11%)]\tLoss: 0.361148\n",
            "Train Epoch: 16 [51200/228312 (22%)]\tLoss: 0.300440\n",
            "Train Epoch: 16 [76800/228312 (34%)]\tLoss: 0.360286\n",
            "Train Epoch: 16 [102400/228312 (45%)]\tLoss: 0.296562\n",
            "Train Epoch: 16 [128000/228312 (56%)]\tLoss: 0.310506\n",
            "Train Epoch: 16 [153600/228312 (67%)]\tLoss: 0.329145\n",
            "Train Epoch: 16 [179200/228312 (78%)]\tLoss: 0.320416\n",
            "Train Epoch: 16 [204800/228312 (90%)]\tLoss: 0.300842\n",
            "\n",
            "Test set: Average loss: 0.5750, Accuracy: 20377/25368 (80%)\n",
            "\n",
            "Starting epoch 17\n",
            "Train Epoch: 17 [0/228312 (0%)]\tLoss: 0.292420\n",
            "Train Epoch: 17 [25600/228312 (11%)]\tLoss: 0.311818\n",
            "Train Epoch: 17 [51200/228312 (22%)]\tLoss: 0.258716\n",
            "Train Epoch: 17 [76800/228312 (34%)]\tLoss: 0.321569\n",
            "Train Epoch: 17 [102400/228312 (45%)]\tLoss: 0.264178\n",
            "Train Epoch: 17 [128000/228312 (56%)]\tLoss: 0.305344\n",
            "Train Epoch: 17 [153600/228312 (67%)]\tLoss: 0.319083\n",
            "Train Epoch: 17 [179200/228312 (78%)]\tLoss: 0.372230\n",
            "Train Epoch: 17 [204800/228312 (90%)]\tLoss: 0.282908\n",
            "\n",
            "Test set: Average loss: 0.5535, Accuracy: 20895/25368 (82%)\n",
            "\n",
            "Starting epoch 18\n",
            "Train Epoch: 18 [0/228312 (0%)]\tLoss: 0.276025\n",
            "Train Epoch: 18 [25600/228312 (11%)]\tLoss: 0.374004\n",
            "Train Epoch: 18 [51200/228312 (22%)]\tLoss: 0.345264\n",
            "Train Epoch: 18 [76800/228312 (34%)]\tLoss: 0.281600\n",
            "Train Epoch: 18 [102400/228312 (45%)]\tLoss: 0.309341\n",
            "Train Epoch: 18 [128000/228312 (56%)]\tLoss: 0.318397\n",
            "Train Epoch: 18 [153600/228312 (67%)]\tLoss: 0.318860\n",
            "Train Epoch: 18 [179200/228312 (78%)]\tLoss: 0.284865\n",
            "Train Epoch: 18 [204800/228312 (90%)]\tLoss: 0.290483\n",
            "\n",
            "Test set: Average loss: 0.5048, Accuracy: 20150/25368 (79%)\n",
            "\n",
            "Starting epoch 19\n",
            "Train Epoch: 19 [0/228312 (0%)]\tLoss: 0.298864\n",
            "Train Epoch: 19 [25600/228312 (11%)]\tLoss: 0.263716\n",
            "Train Epoch: 19 [51200/228312 (22%)]\tLoss: 0.309952\n",
            "Train Epoch: 19 [76800/228312 (34%)]\tLoss: 0.271213\n",
            "Train Epoch: 19 [102400/228312 (45%)]\tLoss: 0.309245\n",
            "Train Epoch: 19 [128000/228312 (56%)]\tLoss: 0.280980\n",
            "Train Epoch: 19 [153600/228312 (67%)]\tLoss: 0.286657\n",
            "Train Epoch: 19 [179200/228312 (78%)]\tLoss: 0.379565\n",
            "Train Epoch: 19 [204800/228312 (90%)]\tLoss: 0.282572\n",
            "\n",
            "Test set: Average loss: 0.5470, Accuracy: 21460/25368 (85%)\n",
            "\n",
            "Starting epoch 20\n",
            "Train Epoch: 20 [0/228312 (0%)]\tLoss: 0.333475\n",
            "Train Epoch: 20 [25600/228312 (11%)]\tLoss: 0.303627\n",
            "Train Epoch: 20 [51200/228312 (22%)]\tLoss: 0.313946\n",
            "Train Epoch: 20 [76800/228312 (34%)]\tLoss: 0.234028\n",
            "Train Epoch: 20 [102400/228312 (45%)]\tLoss: 0.363444\n",
            "Train Epoch: 20 [128000/228312 (56%)]\tLoss: 0.241532\n",
            "Train Epoch: 20 [153600/228312 (67%)]\tLoss: 0.309129\n",
            "Train Epoch: 20 [179200/228312 (78%)]\tLoss: 0.279235\n",
            "Train Epoch: 20 [204800/228312 (90%)]\tLoss: 0.370568\n",
            "\n",
            "Test set: Average loss: 0.5158, Accuracy: 20187/25368 (80%)\n",
            "\n",
            "Training process has finished.\n"
          ]
        }
      ],
      "source": [
        "from torch.utils.data import TensorDataset, DataLoader\n",
        "def main(train_data, train_label, test_data, test_label, batch_size, epochs):\n",
        "    \"\"\" Training your model.\n",
        "\n",
        "    Args:\n",
        "        train_data, test_data (tensor): The training/testing data. It should have a shape of (n_instance, n_features).\n",
        "        train_label, test_label (tensor): The labels of training/testing instances. It should have a shape of (n_instance, 1).\n",
        "        batch_size  (Union[int, NoneType]): The number of samples loaded for one iteration.\n",
        "        epochs (Union[int, NoneType]): The number of epochs. When this reaches, the training stops.\n",
        "    \"\"\"\n",
        "    # Set fixed random number seed. DO NOT CHANGE IT.\n",
        "    torch.manual_seed(336699)\n",
        "    \n",
        "    # Prepare series dataset.\n",
        "    train_dataset = TensorDataset(train_data, train_label)\n",
        "    train_loader  = DataLoader(train_dataset, batch_size=batch_size, shuffle=True)\n",
        "    test_dataset  = TensorDataset(test_data, test_label)\n",
        "    test_loader   = DataLoader(test_dataset, batch_size=batch_size, shuffle=True)\n",
        "\n",
        "    # Initialize proposed model.\n",
        "    model = YourModel() \n",
        "\n",
        "    # Define the loss function and optimizer. You can freely choose your loss function and optimizer based on your task.\n",
        "    optimizer = torch.optim.Adam(model.parameters(), lr=1e-4)\n",
        "    criterion = torch.nn.CrossEntropyLoss()\n",
        "    criterion_test = torch.nn.CrossEntropyLoss(reduction='sum')\n",
        "\n",
        "    # Run the training loop\n",
        "    losses = []\n",
        "    accuracies = []\n",
        "    for epoch in range(1, epochs+1):\n",
        "        # Print epoch\n",
        "        print(f'Starting epoch {epoch}')\n",
        "        train(model, train_loader, criterion, optimizer, epoch)\n",
        "        test_loss, test_accuracy = test(model, test_loader, criterion_test)\n",
        "        losses.append(test_loss)\n",
        "        accuracies.append(test_accuracy)\n",
        "        \n",
        "    # Process is complete.\n",
        "    print('Training process has finished.')\n",
        "    \n",
        "    return losses, accuracies\n",
        "\n",
        "\n",
        "if __name__ == '__main__':\n",
        "    # Run your codes here.\n",
        "    losses, accuracies = main(X_train, y_train, X_test, y_test, 256, 20) #exchange with your variabel names"
      ]
    },
    {
      "cell_type": "markdown",
      "metadata": {
        "id": "Tlc4snCn3kR0"
      },
      "source": [
        "Please interpret the resuls of your analysis. What can be learned? What can we utilise the algorithm? Is it visible to use the algorithm in practice, considering the training and test error?"
      ]
    },
    {
      "cell_type": "markdown",
      "source": [
        "We find that, as the training process goes, the accuracy of the model converges to a satisfying level (~85%). This suggests that we can use such algorithm to predict/determine whether a patient is diabetic or not. It is visible to use the algorithm in practice, considering the training and test error. However, we should point out that such algorithm should be treated as medical suggestions instead of definitive medical decisions, as the cost would be high if a mis-diagnosis took place."
      ],
      "metadata": {
        "id": "8MSszovBOHhn"
      }
    },
    {
      "cell_type": "code",
      "source": [
        "from matplotlib import pyplot as plt"
      ],
      "metadata": {
        "id": "3spo_1tNOJuv"
      },
      "execution_count": 27,
      "outputs": []
    },
    {
      "cell_type": "code",
      "source": [
        "t = range(1, 21)\n",
        "\n",
        "fig, ax1 = plt.subplots()\n",
        "color = 'tab:red'\n",
        "ax1.set_xlabel('epoch')\n",
        "ax1.set_ylabel('loss', color=color)\n",
        "ax1.plot(t, losses, color=color)\n",
        "ax1.tick_params(axis='y', labelcolor=color)\n",
        "ax1.set_ylim([0, 1])\n",
        "\n",
        "ax2 = ax1.twinx()  # instantiate a second axes that shares the same x-axis\n",
        "\n",
        "color = 'tab:blue'\n",
        "ax2.set_ylabel('accuracy (%)', color=color)  # we already handled the x-label with ax1\n",
        "ax2.plot(t, accuracies, color=color)\n",
        "ax2.tick_params(axis='y', labelcolor=color)\n",
        "ax2.set_ylim([0, 100])\n",
        "\n",
        "plt.xticks(list(t))\n",
        "\n",
        "fig.tight_layout()  # otherwise the right y-label is slightly clipped\n",
        "plt.show()"
      ],
      "metadata": {
        "id": "AzWEx1TeOKLo",
        "colab": {
          "base_uri": "https://localhost:8080/",
          "height": 297
        },
        "outputId": "02ef976d-6a32-426f-8514-c2d43c0c4488"
      },
      "execution_count": 30,
      "outputs": [
        {
          "output_type": "display_data",
          "data": {
            "text/plain": [
              "<Figure size 432x288 with 2 Axes>"
            ],
            "image/png": "[encoded data removed]"
          },
          "metadata": {
            "needs_background": "light"
          }
        }
      ]
    },
    {
      "cell_type": "code",
      "source": [],
      "metadata": {
        "id": "_wVY3CgC5LR9"
      },
      "execution_count": null,
      "outputs": []
    }
  ],
  "metadata": {
    "colab": {
      "provenance": []
    },
    "kernelspec": {
      "display_name": "Python 3.9.13 ('base')",
      "language": "python",
      "name": "python3"
    },
    "language_info": {
      "codemirror_mode": {
        "name": "ipython",
        "version": 3
      },
      "file_extension": ".py",
      "mimetype": "text/x-python",
      "name": "python",
      "nbconvert_exporter": "python",
      "pygments_lexer": "ipython3",
      "version": "3.9.13"
    },
    "vscode": {
      "interpreter": {
        "hash": "5940b77976ef3bac7cfc78a082ed4676e831584770ac5adf4c28bfa1611ecc43"
      }
    }
  },
  "nbformat": 4,
  "nbformat_minor": 0
}