{
  "cells": [
    {
      "cell_type": "markdown",
      "metadata": {
        "id": "OwQ2r5aT6SNX"
      },
      "source": [
        "<h1><center>\n",
        "    Eyetracking: Experiment Design and Machine Learning Methods<br/>\n",
        "  \n",
        "    \n",
        "    Assignment 6\n",
        "</center></h1>"
      ]
    },
    {
      "cell_type": "markdown",
      "metadata": {
        "id": "nLmUuX_H6SNa"
      },
      "source": [
        "### In assignment 6, we will work with ~~Tensorflow~~ Pytorch to use a CNN.\n",
        "\n",
        "**The deadline for submitting your implementation is 25 May, 10.15 a.m. Please upload your solution as a pre-compiled jupyter notebook to OLAT**"
      ]
    },
    {
      "cell_type": "code",
      "execution_count": 1,
      "metadata": {
        "id": "9FDwn4Mr6SNb"
      },
      "outputs": [],
      "source": [
        "import matplotlib.pyplot as plt\n",
        "import numpy as np\n",
        "import os\n",
        "import pandas as pd\n",
        "import re\n",
        "from sklearn.model_selection import train_test_split\n",
        "import torch\n",
        "from tqdm import trange, tqdm"
      ]
    },
    {
      "cell_type": "code",
      "execution_count": 2,
      "metadata": {
        "id": "UNwxc0de6SNc",
        "outputId": "cf6cc8c6-56c6-4598-e85c-eb59b87f7171",
        "colab": {
          "base_uri": "https://localhost:8080/",
          "height": 37
        }
      },
      "outputs": [
        {
          "output_type": "execute_result",
          "data": {
            "text/plain": [
              "'2.0.1+cu118'"
            ],
            "application/vnd.google.colaboratory.intrinsic+json": {
              "type": "string"
            }
          },
          "metadata": {},
          "execution_count": 2
        }
      ],
      "source": [
        "torch.__version__"
      ]
    },
    {
      "cell_type": "code",
      "source": [
        "device = \"cuda\" if torch.cuda.is_available() else \"cpu\"\n",
        "device"
      ],
      "metadata": {
        "colab": {
          "base_uri": "https://localhost:8080/",
          "height": 37
        },
        "id": "l3fFoSfmAbAJ",
        "outputId": "b9ce4744-5ac3-49e4-9b07-405e15770779"
      },
      "execution_count": 3,
      "outputs": [
        {
          "output_type": "execute_result",
          "data": {
            "text/plain": [
              "'cuda'"
            ],
            "application/vnd.google.colaboratory.intrinsic+json": {
              "type": "string"
            }
          },
          "metadata": {},
          "execution_count": 3
        }
      ]
    },
    {
      "cell_type": "code",
      "source": [
        "from google.colab import drive\n",
        "drive.mount('/content/drive/')"
      ],
      "metadata": {
        "id": "AhEc1uTT6Udt",
        "colab": {
          "base_uri": "https://localhost:8080/"
        },
        "outputId": "b883876b-9c13-4b21-dcd9-9ac05fd8569c"
      },
      "execution_count": 4,
      "outputs": [
        {
          "output_type": "stream",
          "name": "stdout",
          "text": [
            "Mounted at /content/drive/\n"
          ]
        }
      ]
    },
    {
      "cell_type": "markdown",
      "metadata": {
        "id": "ML24iH8W6SNd"
      },
      "source": [
        "Please check that you're working with ~~Tensorflow 2.x~~. You're also free to use pytorch or any other DL framework."
      ]
    },
    {
      "cell_type": "markdown",
      "metadata": {
        "id": "9haG3pd06SNe"
      },
      "source": [
        "The assignment is structure in the following way: Load the data, explore the data, preprocess the data, define your network, train your network, evaluate your network.\n",
        "This is basically a dress rehearsal for the second project. "
      ]
    },
    {
      "cell_type": "markdown",
      "metadata": {
        "id": "0TNhYIHO6SNe"
      },
      "source": [
        "# Task 1"
      ]
    },
    {
      "cell_type": "markdown",
      "metadata": {
        "id": "-nu0l7xE6SNe"
      },
      "source": [
        "Load GazeBase dataset: https://figshare.com/articles/dataset/GazeBase_Data_Repository/12912257\n",
        "\n",
        "You already know this dataset from the assignment 'getting to know the data'. Here is the paper introducing the dataset: https://www.nature.com/articles/s41597-021-00959-ybut. To recap: there are up to 322 subjects, several different tasks and 9 rounds with two sessions for each task. "
      ]
    },
    {
      "cell_type": "markdown",
      "metadata": {
        "id": "758blfNo6SNf"
      },
      "source": [
        "Decide for one subtask and state a problem-setting you want to investigate using a CNN. As in the exercise two weeks ago the results do not need to be above random guessing, it is only about the execution. NOTE: the dataset (subtask) you're using in this assignment is then excluded from the final project. But if you want to use another task of GazeBase and a CNN the pipeline should be easily adjustable."
      ]
    },
    {
      "cell_type": "code",
      "execution_count": null,
      "metadata": {
        "id": "SxhArS8b6SNf",
        "outputId": "511234f2-581d-427d-8405-717f626e4a9c"
      },
      "outputs": [
        {
          "name": "stderr",
          "output_type": "stream",
          "text": [
            "100%|██████████| 9/9 [01:52<00:00, 12.49s/it]\n"
          ]
        }
      ],
      "source": [
        "#############################\n",
        "#                           #\n",
        "#        Load the data      #\n",
        "#                           #\n",
        "#############################\n",
        "\n",
        "# There is no need to use python 'requests' library to load the data\n",
        "# Direct download and then unzip the file seems to be the fastest\n",
        "# Begin running the following codes after all the compressed files\n",
        "# are unzipped (recursively!)\n",
        "\n",
        "# Remove irrelevant data\n",
        "pwd = './'\n",
        "\n",
        "for r in trange(1, 10):\n",
        "    round_path = pwd + f'Round_{r}/'\n",
        "    for subject_name in os.listdir(round_path):\n",
        "        subject_path = round_path + subject_name + '/'\n",
        "        if not os.path.isdir(subject_path):\n",
        "            continue\n",
        "        for session in os.listdir(subject_path):\n",
        "            session_path = subject_path + session + '/'\n",
        "            if not os.path.isdir(session_path):\n",
        "                continue\n",
        "            for subtask in os.listdir(session_path):\n",
        "                subtask_path = session_path + subtask + '/'\n",
        "                if subtask[-7:] == 'Reading':\n",
        "                    os.system('mv ' + subtask_path + '*.csv ' + subject_path)\n",
        "                    os.system('rm ' + subtask_path)\n",
        "                else:\n",
        "                    os.system('rm ' + subtask_path)\n",
        "            os.system('rm -r ' + session_path)"
      ]
    },
    {
      "cell_type": "code",
      "execution_count": null,
      "metadata": {
        "id": "THq3eTT-6SNg",
        "outputId": "42ba523a-4e5f-4998-efd1-7470f4c49986"
      },
      "outputs": [
        {
          "name": "stderr",
          "output_type": "stream",
          "text": [
            "100%|██████████| 9/9 [00:13<00:00,  1.51s/it]\n"
          ]
        }
      ],
      "source": [
        "# gather all the data\n",
        "for r in trange(1, 10):\n",
        "    round_path = pwd + f'Round_{r}/'\n",
        "    for subject_name in os.listdir(round_path):\n",
        "        subject_path = round_path + subject_name + '/'\n",
        "        if not os.path.isdir(subject_path):\n",
        "            continue     \n",
        "        os.system('mv ' + subject_path + '*.csv ' + round_path)\n",
        "        os.system('rm -r ' + subject_path)"
      ]
    },
    {
      "cell_type": "code",
      "execution_count": null,
      "metadata": {
        "id": "zdZkgyvA6SNg",
        "outputId": "317cd97c-fb81-4800-f189-f9435c11a60b"
      },
      "outputs": [
        {
          "name": "stderr",
          "output_type": "stream",
          "text": [
            "100%|██████████| 9/9 [00:00<00:00, 57.68it/s]\n"
          ]
        }
      ],
      "source": [
        "# put all data together as raw data\n",
        "for r in trange(1, 10):\n",
        "    round_path = pwd + f'Round_{r}/'\n",
        "    os.system('mv ' + round_path + '*.csv ./raw')\n",
        "    os.system('rm -r ' + round_path)"
      ]
    },
    {
      "cell_type": "markdown",
      "metadata": {
        "id": "ZAAjOJaG6SNh"
      },
      "source": [
        "# Task 2"
      ]
    },
    {
      "cell_type": "markdown",
      "metadata": {
        "tags": [],
        "id": "fcQ11I0I6SNh"
      },
      "source": [
        "State your problem setting below. Describe at least which architecture you are using, what its goal is, the format of the input data and labels and from where you got the data. For an example problem setting see e.g. [Jäger et al](https://arxiv.org/pdf/1906.11889.pdf)."
      ]
    },
    {
      "cell_type": "markdown",
      "metadata": {
        "id": "2Yy5T4lN6SNh"
      },
      "source": []
    },
    {
      "cell_type": "markdown",
      "metadata": {
        "id": "ED4ooDY66SNh"
      },
      "source": [
        "# Task 3"
      ]
    },
    {
      "cell_type": "markdown",
      "metadata": {
        "id": "3MIzzdKA6SNi"
      },
      "source": [
        "Do basic data exploration (e.g. checking for nans, visualization, units and range of the data,...)\n",
        "\n",
        "It would make sense to first extract the data from the files and store it in a suitable format for further processing, e.g. in a feature matrix and a label vector"
      ]
    },
    {
      "cell_type": "code",
      "execution_count": null,
      "metadata": {
        "id": "1cQzVY5Q6SNi",
        "outputId": "4a95164a-8627-450a-e1cf-747533996486"
      },
      "outputs": [
        {
          "data": {
            "text/html": [
              "<div>\n",
              "<style scoped>\n",
              "    .dataframe tbody tr th:only-of-type {\n",
              "        vertical-align: middle;\n",
              "    }\n",
              "\n",
              "    .dataframe tbody tr th {\n",
              "        vertical-align: top;\n",
              "    }\n",
              "\n",
              "    .dataframe thead th {\n",
              "        text-align: right;\n",
              "    }\n",
              "</style>\n",
              "<table border=\"1\" class=\"dataframe\">\n",
              "  <thead>\n",
              "    <tr style=\"text-align: right;\">\n",
              "      <th></th>\n",
              "      <th>x</th>\n",
              "      <th>y</th>\n",
              "      <th>val</th>\n",
              "      <th>dP</th>\n",
              "      <th>lab</th>\n",
              "      <th>xT</th>\n",
              "      <th>yT</th>\n",
              "    </tr>\n",
              "    <tr>\n",
              "      <th>n</th>\n",
              "      <th></th>\n",
              "      <th></th>\n",
              "      <th></th>\n",
              "      <th></th>\n",
              "      <th></th>\n",
              "      <th></th>\n",
              "      <th></th>\n",
              "    </tr>\n",
              "  </thead>\n",
              "  <tbody>\n",
              "    <tr>\n",
              "      <th>0</th>\n",
              "      <td>-15.275756</td>\n",
              "      <td>3.629150</td>\n",
              "      <td>0</td>\n",
              "      <td>2190.0</td>\n",
              "      <td>0</td>\n",
              "      <td>NaN</td>\n",
              "      <td>NaN</td>\n",
              "    </tr>\n",
              "    <tr>\n",
              "      <th>1</th>\n",
              "      <td>-15.283961</td>\n",
              "      <td>3.640889</td>\n",
              "      <td>0</td>\n",
              "      <td>2190.0</td>\n",
              "      <td>0</td>\n",
              "      <td>NaN</td>\n",
              "      <td>NaN</td>\n",
              "    </tr>\n",
              "    <tr>\n",
              "      <th>2</th>\n",
              "      <td>-15.289431</td>\n",
              "      <td>3.658497</td>\n",
              "      <td>0</td>\n",
              "      <td>2190.0</td>\n",
              "      <td>0</td>\n",
              "      <td>NaN</td>\n",
              "      <td>NaN</td>\n",
              "    </tr>\n",
              "    <tr>\n",
              "      <th>3</th>\n",
              "      <td>-15.297635</td>\n",
              "      <td>3.664366</td>\n",
              "      <td>0</td>\n",
              "      <td>2190.0</td>\n",
              "      <td>0</td>\n",
              "      <td>NaN</td>\n",
              "      <td>NaN</td>\n",
              "    </tr>\n",
              "    <tr>\n",
              "      <th>4</th>\n",
              "      <td>-15.300369</td>\n",
              "      <td>3.667301</td>\n",
              "      <td>0</td>\n",
              "      <td>2190.0</td>\n",
              "      <td>0</td>\n",
              "      <td>NaN</td>\n",
              "      <td>NaN</td>\n",
              "    </tr>\n",
              "    <tr>\n",
              "      <th>...</th>\n",
              "      <td>...</td>\n",
              "      <td>...</td>\n",
              "      <td>...</td>\n",
              "      <td>...</td>\n",
              "      <td>...</td>\n",
              "      <td>...</td>\n",
              "      <td>...</td>\n",
              "    </tr>\n",
              "    <tr>\n",
              "      <th>60228</th>\n",
              "      <td>1.172577</td>\n",
              "      <td>0.973101</td>\n",
              "      <td>0</td>\n",
              "      <td>1459.0</td>\n",
              "      <td>1</td>\n",
              "      <td>NaN</td>\n",
              "      <td>NaN</td>\n",
              "    </tr>\n",
              "    <tr>\n",
              "      <th>60229</th>\n",
              "      <td>1.166701</td>\n",
              "      <td>0.949535</td>\n",
              "      <td>0</td>\n",
              "      <td>1460.0</td>\n",
              "      <td>1</td>\n",
              "      <td>NaN</td>\n",
              "      <td>NaN</td>\n",
              "    </tr>\n",
              "    <tr>\n",
              "      <th>60230</th>\n",
              "      <td>1.163763</td>\n",
              "      <td>0.925968</td>\n",
              "      <td>0</td>\n",
              "      <td>1460.0</td>\n",
              "      <td>1</td>\n",
              "      <td>NaN</td>\n",
              "      <td>NaN</td>\n",
              "    </tr>\n",
              "    <tr>\n",
              "      <th>60231</th>\n",
              "      <td>1.163763</td>\n",
              "      <td>0.934806</td>\n",
              "      <td>0</td>\n",
              "      <td>1459.0</td>\n",
              "      <td>1</td>\n",
              "      <td>NaN</td>\n",
              "      <td>NaN</td>\n",
              "    </tr>\n",
              "    <tr>\n",
              "      <th>60232</th>\n",
              "      <td>1.163763</td>\n",
              "      <td>0.946589</td>\n",
              "      <td>0</td>\n",
              "      <td>1458.0</td>\n",
              "      <td>0</td>\n",
              "      <td>NaN</td>\n",
              "      <td>NaN</td>\n",
              "    </tr>\n",
              "  </tbody>\n",
              "</table>\n",
              "<p>60233 rows × 7 columns</p>\n",
              "</div>"
            ],
            "text/plain": [
              "               x         y  val      dP  lab  xT  yT\n",
              "n                                                   \n",
              "0     -15.275756  3.629150    0  2190.0    0 NaN NaN\n",
              "1     -15.283961  3.640889    0  2190.0    0 NaN NaN\n",
              "2     -15.289431  3.658497    0  2190.0    0 NaN NaN\n",
              "3     -15.297635  3.664366    0  2190.0    0 NaN NaN\n",
              "4     -15.300369  3.667301    0  2190.0    0 NaN NaN\n",
              "...          ...       ...  ...     ...  ...  ..  ..\n",
              "60228   1.172577  0.973101    0  1459.0    1 NaN NaN\n",
              "60229   1.166701  0.949535    0  1460.0    1 NaN NaN\n",
              "60230   1.163763  0.925968    0  1460.0    1 NaN NaN\n",
              "60231   1.163763  0.934806    0  1459.0    1 NaN NaN\n",
              "60232   1.163763  0.946589    0  1458.0    0 NaN NaN\n",
              "\n",
              "[60233 rows x 7 columns]"
            ]
          },
          "execution_count": 92,
          "metadata": {},
          "output_type": "execute_result"
        }
      ],
      "source": [
        "############################################\n",
        "#                                          #\n",
        "#        Your exploration starts here      #\n",
        "#                                          #\n",
        "############################################\n",
        "df = pd.read_csv('./raw/S_1001_S1_TEX.csv', index_col='n')\n",
        "df"
      ]
    },
    {
      "cell_type": "code",
      "execution_count": null,
      "metadata": {
        "id": "MB6Fx1VS6SNi",
        "outputId": "da99eea6-6274-4769-91d0-b1444cc6738b"
      },
      "outputs": [
        {
          "data": {
            "text/html": [
              "<div>\n",
              "<style scoped>\n",
              "    .dataframe tbody tr th:only-of-type {\n",
              "        vertical-align: middle;\n",
              "    }\n",
              "\n",
              "    .dataframe tbody tr th {\n",
              "        vertical-align: top;\n",
              "    }\n",
              "\n",
              "    .dataframe thead th {\n",
              "        text-align: right;\n",
              "    }\n",
              "</style>\n",
              "<table border=\"1\" class=\"dataframe\">\n",
              "  <thead>\n",
              "    <tr style=\"text-align: right;\">\n",
              "      <th></th>\n",
              "      <th>x</th>\n",
              "      <th>y</th>\n",
              "      <th>val</th>\n",
              "      <th>dP</th>\n",
              "      <th>lab</th>\n",
              "      <th>xT</th>\n",
              "      <th>yT</th>\n",
              "    </tr>\n",
              "  </thead>\n",
              "  <tbody>\n",
              "    <tr>\n",
              "      <th>count</th>\n",
              "      <td>58228.000000</td>\n",
              "      <td>58228.000000</td>\n",
              "      <td>60233.00000</td>\n",
              "      <td>58228.000000</td>\n",
              "      <td>60233.000000</td>\n",
              "      <td>0.0</td>\n",
              "      <td>0.0</td>\n",
              "    </tr>\n",
              "    <tr>\n",
              "      <th>mean</th>\n",
              "      <td>-0.240258</td>\n",
              "      <td>-1.150428</td>\n",
              "      <td>0.13315</td>\n",
              "      <td>1492.359964</td>\n",
              "      <td>1.038567</td>\n",
              "      <td>NaN</td>\n",
              "      <td>NaN</td>\n",
              "    </tr>\n",
              "    <tr>\n",
              "      <th>std</th>\n",
              "      <td>5.062450</td>\n",
              "      <td>8.722335</td>\n",
              "      <td>0.71755</td>\n",
              "      <td>199.492512</td>\n",
              "      <td>0.495621</td>\n",
              "      <td>NaN</td>\n",
              "      <td>NaN</td>\n",
              "    </tr>\n",
              "    <tr>\n",
              "      <th>min</th>\n",
              "      <td>-31.959825</td>\n",
              "      <td>-19.513322</td>\n",
              "      <td>0.00000</td>\n",
              "      <td>164.000000</td>\n",
              "      <td>-1.000000</td>\n",
              "      <td>NaN</td>\n",
              "      <td>NaN</td>\n",
              "    </tr>\n",
              "    <tr>\n",
              "      <th>25%</th>\n",
              "      <td>-4.458561</td>\n",
              "      <td>-7.968180</td>\n",
              "      <td>0.00000</td>\n",
              "      <td>1352.000000</td>\n",
              "      <td>1.000000</td>\n",
              "      <td>NaN</td>\n",
              "      <td>NaN</td>\n",
              "    </tr>\n",
              "    <tr>\n",
              "      <th>50%</th>\n",
              "      <td>-0.449688</td>\n",
              "      <td>1.049690</td>\n",
              "      <td>0.00000</td>\n",
              "      <td>1460.000000</td>\n",
              "      <td>1.000000</td>\n",
              "      <td>NaN</td>\n",
              "      <td>NaN</td>\n",
              "    </tr>\n",
              "    <tr>\n",
              "      <th>75%</th>\n",
              "      <td>3.021631</td>\n",
              "      <td>6.391936</td>\n",
              "      <td>0.00000</td>\n",
              "      <td>1593.000000</td>\n",
              "      <td>1.000000</td>\n",
              "      <td>NaN</td>\n",
              "      <td>NaN</td>\n",
              "    </tr>\n",
              "    <tr>\n",
              "      <th>max</th>\n",
              "      <td>47.060899</td>\n",
              "      <td>31.006217</td>\n",
              "      <td>4.00000</td>\n",
              "      <td>2491.000000</td>\n",
              "      <td>2.000000</td>\n",
              "      <td>NaN</td>\n",
              "      <td>NaN</td>\n",
              "    </tr>\n",
              "  </tbody>\n",
              "</table>\n",
              "</div>"
            ],
            "text/plain": [
              "                  x             y          val            dP           lab  \\\n",
              "count  58228.000000  58228.000000  60233.00000  58228.000000  60233.000000   \n",
              "mean      -0.240258     -1.150428      0.13315   1492.359964      1.038567   \n",
              "std        5.062450      8.722335      0.71755    199.492512      0.495621   \n",
              "min      -31.959825    -19.513322      0.00000    164.000000     -1.000000   \n",
              "25%       -4.458561     -7.968180      0.00000   1352.000000      1.000000   \n",
              "50%       -0.449688      1.049690      0.00000   1460.000000      1.000000   \n",
              "75%        3.021631      6.391936      0.00000   1593.000000      1.000000   \n",
              "max       47.060899     31.006217      4.00000   2491.000000      2.000000   \n",
              "\n",
              "        xT   yT  \n",
              "count  0.0  0.0  \n",
              "mean   NaN  NaN  \n",
              "std    NaN  NaN  \n",
              "min    NaN  NaN  \n",
              "25%    NaN  NaN  \n",
              "50%    NaN  NaN  \n",
              "75%    NaN  NaN  \n",
              "max    NaN  NaN  "
            ]
          },
          "execution_count": 81,
          "metadata": {},
          "output_type": "execute_result"
        }
      ],
      "source": [
        "df.describe()"
      ]
    },
    {
      "cell_type": "code",
      "execution_count": null,
      "metadata": {
        "id": "SHjHvqeL6SNi",
        "outputId": "60acaf1c-3d68-4456-fb39-302d302b641d"
      },
      "outputs": [
        {
          "data": {
            "text/html": [
              "<div>\n",
              "<style scoped>\n",
              "    .dataframe tbody tr th:only-of-type {\n",
              "        vertical-align: middle;\n",
              "    }\n",
              "\n",
              "    .dataframe tbody tr th {\n",
              "        vertical-align: top;\n",
              "    }\n",
              "\n",
              "    .dataframe thead th {\n",
              "        text-align: right;\n",
              "    }\n",
              "</style>\n",
              "<table border=\"1\" class=\"dataframe\">\n",
              "  <thead>\n",
              "    <tr style=\"text-align: right;\">\n",
              "      <th></th>\n",
              "      <th>x</th>\n",
              "      <th>y</th>\n",
              "      <th>dP</th>\n",
              "      <th>lab</th>\n",
              "    </tr>\n",
              "    <tr>\n",
              "      <th>n</th>\n",
              "      <th></th>\n",
              "      <th></th>\n",
              "      <th></th>\n",
              "      <th></th>\n",
              "    </tr>\n",
              "  </thead>\n",
              "  <tbody>\n",
              "    <tr>\n",
              "      <th>0</th>\n",
              "      <td>-15.275756</td>\n",
              "      <td>3.629150</td>\n",
              "      <td>2190.0</td>\n",
              "      <td>0</td>\n",
              "    </tr>\n",
              "    <tr>\n",
              "      <th>1</th>\n",
              "      <td>-15.283961</td>\n",
              "      <td>3.640889</td>\n",
              "      <td>2190.0</td>\n",
              "      <td>0</td>\n",
              "    </tr>\n",
              "    <tr>\n",
              "      <th>2</th>\n",
              "      <td>-15.289431</td>\n",
              "      <td>3.658497</td>\n",
              "      <td>2190.0</td>\n",
              "      <td>0</td>\n",
              "    </tr>\n",
              "    <tr>\n",
              "      <th>3</th>\n",
              "      <td>-15.297635</td>\n",
              "      <td>3.664366</td>\n",
              "      <td>2190.0</td>\n",
              "      <td>0</td>\n",
              "    </tr>\n",
              "    <tr>\n",
              "      <th>4</th>\n",
              "      <td>-15.300369</td>\n",
              "      <td>3.667301</td>\n",
              "      <td>2190.0</td>\n",
              "      <td>0</td>\n",
              "    </tr>\n",
              "    <tr>\n",
              "      <th>...</th>\n",
              "      <td>...</td>\n",
              "      <td>...</td>\n",
              "      <td>...</td>\n",
              "      <td>...</td>\n",
              "    </tr>\n",
              "    <tr>\n",
              "      <th>60228</th>\n",
              "      <td>1.172577</td>\n",
              "      <td>0.973101</td>\n",
              "      <td>1459.0</td>\n",
              "      <td>1</td>\n",
              "    </tr>\n",
              "    <tr>\n",
              "      <th>60229</th>\n",
              "      <td>1.166701</td>\n",
              "      <td>0.949535</td>\n",
              "      <td>1460.0</td>\n",
              "      <td>1</td>\n",
              "    </tr>\n",
              "    <tr>\n",
              "      <th>60230</th>\n",
              "      <td>1.163763</td>\n",
              "      <td>0.925968</td>\n",
              "      <td>1460.0</td>\n",
              "      <td>1</td>\n",
              "    </tr>\n",
              "    <tr>\n",
              "      <th>60231</th>\n",
              "      <td>1.163763</td>\n",
              "      <td>0.934806</td>\n",
              "      <td>1459.0</td>\n",
              "      <td>1</td>\n",
              "    </tr>\n",
              "    <tr>\n",
              "      <th>60232</th>\n",
              "      <td>1.163763</td>\n",
              "      <td>0.946589</td>\n",
              "      <td>1458.0</td>\n",
              "      <td>0</td>\n",
              "    </tr>\n",
              "  </tbody>\n",
              "</table>\n",
              "<p>60233 rows × 4 columns</p>\n",
              "</div>"
            ],
            "text/plain": [
              "               x         y      dP  lab\n",
              "n                                      \n",
              "0     -15.275756  3.629150  2190.0    0\n",
              "1     -15.283961  3.640889  2190.0    0\n",
              "2     -15.289431  3.658497  2190.0    0\n",
              "3     -15.297635  3.664366  2190.0    0\n",
              "4     -15.300369  3.667301  2190.0    0\n",
              "...          ...       ...     ...  ...\n",
              "60228   1.172577  0.973101  1459.0    1\n",
              "60229   1.166701  0.949535  1460.0    1\n",
              "60230   1.163763  0.925968  1460.0    1\n",
              "60231   1.163763  0.934806  1459.0    1\n",
              "60232   1.163763  0.946589  1458.0    0\n",
              "\n",
              "[60233 rows x 4 columns]"
            ]
          },
          "execution_count": 82,
          "metadata": {},
          "output_type": "execute_result"
        }
      ],
      "source": [
        "df = df.drop(['xT', 'yT'], axis=1).fillna(0).drop(['val'], axis=1)\n",
        "df"
      ]
    },
    {
      "cell_type": "code",
      "execution_count": null,
      "metadata": {
        "id": "JrO_3o1u6SNj",
        "outputId": "a6b3459e-91d1-418c-e480-c3e2baa76fb5"
      },
      "outputs": [
        {
          "data": {
            "image/png": "[encoded data removed]",
            "text/plain": [
              "<Figure size 640x480 with 1 Axes>"
            ]
          },
          "metadata": {},
          "output_type": "display_data"
        }
      ],
      "source": [
        "plt.plot(df['x'], df['y'])\n",
        "plt.show()"
      ]
    },
    {
      "cell_type": "code",
      "execution_count": null,
      "metadata": {
        "id": "iQAbET5n6SNj",
        "outputId": "5e5fc00f-c1bb-479b-99d4-fe4bd8c49627"
      },
      "outputs": [
        {
          "name": "stderr",
          "output_type": "stream",
          "text": [
            "100%|██████████| 1758/1758 [06:36<00:00,  4.43it/s]\n"
          ]
        }
      ],
      "source": [
        "# preprocessing\n",
        "for f in tqdm(os.listdir('./raw/')):\n",
        "    m = re.match(r'S_(\\d)(\\d{3})_S(\\d)_TEX', f)\n",
        "    if m:\n",
        "        df = pd.read_csv('./raw/' + f, index_col='n')\n",
        "        df = df.drop(['xT', 'yT'], axis=1).fillna(0).drop(['val'], axis=1)\n",
        "        df.to_csv(f'./interim/{m.group(2)}_{m.group(1)}_{m.group(3)}.csv')\n",
        "        \n",
        "os.system('rm -r ./raw')"
      ]
    },
    {
      "cell_type": "code",
      "execution_count": null,
      "metadata": {
        "id": "Ew_Ad2nZ6SNj"
      },
      "outputs": [],
      "source": [
        "df = pd.read_excel('./GazeBaseDemoInfo.xlsx')\n",
        "df = df[['Participant ID', 'Self-Identified Gender']].rename({'Participant ID':'id', 'Self-Identified Gender':'gender'}, axis=1)\n",
        "df['gender'] = df['gender'].map({'Male':0, 'male':0, 'Female':1})\n",
        "df\n",
        "df.to_csv('./interim/gender.csv', index=False)"
      ]
    },
    {
      "cell_type": "code",
      "execution_count": null,
      "metadata": {
        "id": "Jv4eKOHf6SNk",
        "outputId": "380d215f-8423-499b-96ca-3804dd341cf5"
      },
      "outputs": [
        {
          "name": "stdout",
          "output_type": "stream",
          "text": [
            "male count:\t170\n",
            "female count:\t151\n"
          ]
        }
      ],
      "source": [
        "# So the dataset is not unbalanced\n",
        "print('male count:',   len(df[df['gender'] == 0].index), sep='\\t')\n",
        "print('female count:', len(df[df['gender'] == 1].index), sep='\\t')"
      ]
    },
    {
      "cell_type": "markdown",
      "metadata": {
        "id": "C-dH8A3u6SNk"
      },
      "source": [
        "# Task 4"
      ]
    },
    {
      "cell_type": "markdown",
      "metadata": {
        "id": "bmB5JRGx6SNk"
      },
      "source": [
        "Split the data into train and test split. We've already done something similar in assignment 5.\n",
        "<br>\n",
        "* Read in the unzipped files and store the data in a feature matrix and a label vector (partially done in Task 1 \\& 3)\n",
        "* Do some data exploration on both the features and the labels (partially done in Task 3)\n",
        "* Preprocess the labels by one-hot-encoding\n",
        "* You will need to reshape your feature matrix to work as an input for the CNN\n",
        "* Pad the feature matrix\n",
        "* Split the data into train and test sets\n",
        "\n"
      ]
    },
    {
      "cell_type": "code",
      "execution_count": 6,
      "metadata": {
        "id": "iYeXssrM6SNk"
      },
      "outputs": [],
      "source": [
        "##########################################\n",
        "#                                        #\n",
        "#       Your splitting                   #\n",
        "#                                        #\n",
        "##########################################\n",
        "record_list = [str(x) for x in os.listdir('/content/drive/MyDrive/ET/interim/') if x[-3:] == 'csv' and x[0] != 'g']\n",
        "data_index = pd.DataFrame({'x': record_list, 'id': [int(x[:3]) for x in record_list]})\n",
        "df_y_lookup = pd.read_csv('/content/drive/MyDrive/ET/interim/gender.csv')\n",
        "data_index = data_index.merge(df_y_lookup, on='id', how='left').drop('id', axis=1)\n",
        "data_index['male'] = (data_index['gender'] == 0).astype(int)\n",
        "data_index['female'] = (data_index['gender'] == 1).astype(int)\n",
        "data_index = data_index.drop('gender', axis=1)\n",
        "data_index"
      ]
    },
    {
      "cell_type": "code",
      "execution_count": null,
      "metadata": {
        "id": "Qa213q0S6SNl"
      },
      "outputs": [],
      "source": [
        "X_train, X_test, y_train, y_test = train_test_split(data_index['x'], data_index[['male', 'female']], test_size=0.2)"
      ]
    },
    {
      "cell_type": "code",
      "execution_count": null,
      "metadata": {
        "id": "Ihy7UCI06SNl",
        "outputId": "4b2b3d92-fec9-44cc-b4b9-20d5cd95973b"
      },
      "outputs": [
        {
          "name": "stderr",
          "output_type": "stream",
          "text": [
            "100%|██████████| 1406/1406 [00:11<00:00, 125.18it/s]\n",
            "100%|██████████| 352/352 [00:02<00:00, 124.77it/s]\n"
          ]
        }
      ],
      "source": [
        "for x in tqdm(X_train):\n",
        "    os.system('mv ./interim/' + x + ' ./processed/X_train')\n",
        "\n",
        "for x in tqdm(X_test):\n",
        "    os.system('mv ./interim/' + x + ' ./processed/X_test')"
      ]
    },
    {
      "cell_type": "markdown",
      "metadata": {
        "id": "YyCOWrZ36SNl"
      },
      "source": [
        "# Task 5"
      ]
    },
    {
      "cell_type": "markdown",
      "metadata": {
        "id": "tqvXIeP-6SNl"
      },
      "source": [
        "Preprocess your data. This is not always necessary, however, note that using a full sequence as input can be very computationally intensive. This can be counteracted by downsampling or splitting. Splitting in this case means to only use a subsequence of the data, e.g., a few seconds, as input."
      ]
    },
    {
      "cell_type": "code",
      "execution_count": 24,
      "metadata": {
        "id": "q1LOaxWr6SNl"
      },
      "outputs": [],
      "source": [
        "class MyData(torch.utils.data.Dataset):\n",
        "    def __init__(self, datapath, transform=None, downsampling=128):\n",
        "        self.csvs_dir = datapath \n",
        "        self.csv_list = os.listdir(datapath)\n",
        "        self.label_lookup = pd.read_csv('/content/drive/MyDrive/ET/processed/gender.csv')\n",
        "        self.transform = transform\n",
        "        self.downsampling = downsampling\n",
        "        \n",
        "    def __getitem__(self, index):\n",
        "        csv_name = self.csv_list[index]\n",
        "        \n",
        "        if (self.label_lookup[self.label_lookup['id'] == int(csv_name[:3])]['gender'] == 0).any():\n",
        "#             label = torch.tensor([1, 0])\n",
        "            label = 0\n",
        "        else:\n",
        "#             label = torch.tensor([0, 1])\n",
        "            label = 1\n",
        "            \n",
        "        df = pd.read_csv(self.csvs_dir + csv_name, index_col='n')\n",
        "        raw_tensor = torch.tensor(df.values)\n",
        "        x_tensor = torch.transpose(raw_tensor[np.linspace(0, raw_tensor.shape[0]-1, self.downsampling).astype(int), :], 0, 1)\n",
        "        \n",
        "        if self.transform:\n",
        "            x_tensor = self.transform(x_tensor)\n",
        "        \n",
        "        return x_tensor, label\n",
        "        \n",
        "    def __len__(self):\n",
        "        return len(self.csv_list)\n",
        "    \n",
        "    \n",
        "batchsize = 16\n",
        "\n",
        "train_dataset = MyData('/content/drive/MyDrive/ET/processed/X_train/')\n",
        "test_dataset  = MyData('/content/drive/MyDrive/ET/processed/X_test/')\n",
        "all_dataset  = MyData('/content/drive/MyDrive/ET/processed/X_all/')\n",
        "\n",
        "train_dataloader = torch.utils.data.DataLoader(dataset=train_dataset, batch_size=batchsize, shuffle=True)\n",
        "test_dataloader  = torch.utils.data.DataLoader(dataset=test_dataset , batch_size=batchsize, shuffle=True)\n",
        "all_dataloader  = torch.utils.data.DataLoader(dataset=all_dataset , batch_size=batchsize, shuffle=True)"
      ]
    },
    {
      "cell_type": "markdown",
      "metadata": {
        "id": "CSAcm2kj6SNm"
      },
      "source": [
        "# Task 6"
      ]
    },
    {
      "cell_type": "markdown",
      "metadata": {
        "id": "c0f7LsgK6SNm"
      },
      "source": [
        "Define your convolutional neural network."
      ]
    },
    {
      "cell_type": "markdown",
      "metadata": {
        "id": "T9Vvi1K86SNm"
      },
      "source": [
        "The simplest way to define a model is as a sequential model. In the list you stack the layers you want to use. Feel free to use other possibilities to define your model."
      ]
    },
    {
      "cell_type": "code",
      "execution_count": 26,
      "metadata": {
        "id": "sWeqyIoU6SNm"
      },
      "outputs": [],
      "source": [
        "############################################\n",
        "#                                          #\n",
        "#     Your model definition goes here      #\n",
        "#                                          #\n",
        "############################################\n",
        "class MyModel(torch.nn.Module):\n",
        "    def __init__(self):\n",
        "        super().__init__()\n",
        "        \n",
        "        self.L1 = torch.nn.Conv1d(4, 4, 7).double()\n",
        "        self.L2 = torch.nn.Conv1d(4, 2, 15).double()\n",
        "        self.L3 = torch.nn.MaxPool1d(4)\n",
        "        self.L4 = torch.nn.Flatten()\n",
        "        \n",
        "        self.L5a = torch.nn.Linear(54, 32).double()\n",
        "        self.L5b = torch.nn.ReLU()\n",
        "        self.L5c = torch.nn.Dropout(p=0.2)\n",
        "        \n",
        "        self.L6a = torch.nn.Linear(32, 32).double()\n",
        "        self.L6b = torch.nn.ReLU()\n",
        "        self.L6c = torch.nn.Dropout(p=0.2)\n",
        "        \n",
        "        self.L7a = torch.nn.Linear(32, 32).double()\n",
        "        self.L7b = torch.nn.ReLU()\n",
        "        self.L7c = torch.nn.Dropout(p=0.2)\n",
        "        \n",
        "        self.L8a = torch.nn.Linear(32, 2).double()\n",
        "        \n",
        "        \n",
        "    def forward(self, x):\n",
        "        x = self.L1(x)\n",
        "        x = self.L2(x)\n",
        "        x = self.L3(x)\n",
        "        x = self.L4(x)\n",
        "        x = self.L5c(self.L5b(self.L5a(x)))\n",
        "        x = self.L6c(self.L6b(self.L6a(x)))\n",
        "        x = self.L7c(self.L7b(self.L7a(x)))\n",
        "        x = self.L8a(x)\n",
        "        \n",
        "        return x"
      ]
    },
    {
      "cell_type": "markdown",
      "metadata": {
        "id": "0jrVaxkV6SNm"
      },
      "source": [
        "# Task 7"
      ]
    },
    {
      "cell_type": "markdown",
      "metadata": {
        "id": "7ir7ifZf6SN4"
      },
      "source": [
        "Compile your model. For that read the documentation on `model.compile(*args, **kwargs)`. You'll need at least an optimizer and a loss function."
      ]
    },
    {
      "cell_type": "code",
      "source": [
        "device = \"cuda\" if torch.cuda.is_available() else \"cpu\"\n",
        "device"
      ],
      "metadata": {
        "id": "LOPDO48S79T7",
        "colab": {
          "base_uri": "https://localhost:8080/",
          "height": 37
        },
        "outputId": "05e37697-7307-4aef-a9a1-473522a16dc9"
      },
      "execution_count": 27,
      "outputs": [
        {
          "output_type": "execute_result",
          "data": {
            "text/plain": [
              "'cuda'"
            ],
            "application/vnd.google.colaboratory.intrinsic+json": {
              "type": "string"
            }
          },
          "metadata": {},
          "execution_count": 27
        }
      ]
    },
    {
      "cell_type": "code",
      "execution_count": 32,
      "metadata": {
        "id": "w8Gja2jO6SN4"
      },
      "outputs": [],
      "source": [
        "model = MyModel().to(device)  "
      ]
    },
    {
      "cell_type": "markdown",
      "metadata": {
        "id": "AKqQgGKr6SN4"
      },
      "source": [
        "# Task 8"
      ]
    },
    {
      "cell_type": "markdown",
      "metadata": {
        "id": "2gzvasbi6SN6"
      },
      "source": [
        "Fit and test your model using `model.fit()` and `model.predict()`. If needed consult the documentation. Typically you provide the dataset, batch size, and number of epochs. You test your model on the test set defined above. "
      ]
    },
    {
      "cell_type": "code",
      "execution_count": 20,
      "metadata": {
        "id": "D7mJ5B1n6SN6"
      },
      "outputs": [],
      "source": [
        "def train_step(model, dataloader, loss_fn, optimizer, device):\n",
        "    model.train()\n",
        "    train_loss, train_acc = 0, 0\n",
        "\n",
        "    for batch, (X, y) in enumerate(dataloader):\n",
        "        X, y = X.to(device), y.to(device)\n",
        "        y_pred = model(X)\n",
        "        loss = loss_fn(y_pred, y)\n",
        "        train_loss += loss.item() \n",
        "        optimizer.zero_grad()\n",
        "        loss.backward()\n",
        "        optimizer.step()\n",
        "        y_pred_class = torch.argmax(torch.softmax(y_pred, dim=1), dim=1)\n",
        "        train_acc += (y_pred_class == y).sum().item() / len(y_pred)\n",
        "\n",
        "    train_loss = train_loss / len(dataloader)\n",
        "    train_acc = train_acc / len(dataloader)\n",
        "    return train_loss, train_acc\n",
        "\n",
        "\n",
        "def test_step(model, dataloader, loss_fn, device):\n",
        "\n",
        "    model.eval() \n",
        "    test_loss, test_acc = 0, 0\n",
        "\n",
        "    with torch.inference_mode():\n",
        "        for batch, (X, y) in enumerate(dataloader):\n",
        "            X, y = X.to(device), y.to(device)\n",
        "            test_pred_logits = model(X)\n",
        "            loss = loss_fn(test_pred_logits, y)\n",
        "            test_loss += loss.item()\n",
        "            test_pred_labels = test_pred_logits.argmax(dim=1)\n",
        "            test_acc += ((test_pred_labels == y).sum().item() / len(test_pred_labels))\n",
        "    test_loss = test_loss / len(dataloader)\n",
        "    test_acc = test_acc / len(dataloader)\n",
        "    return test_loss, test_acc\n",
        "\n",
        "\n",
        "def train(model, train_dataloader, test_dataloader, optimizer, loss_fn, epochs, device):\n",
        "    results = {\"train_loss\": [],\n",
        "               \"train_acc\" : [],\n",
        "               \"test_loss\" : [],\n",
        "               \"test_acc\"  : []\n",
        "              }\n",
        "\n",
        "    for epoch in tqdm(range(epochs)):\n",
        "        train_loss, train_acc = train_step(model=model, dataloader=train_dataloader, loss_fn=loss_fn, optimizer=optimizer, device=device)\n",
        "        test_loss, test_acc = test_step(model=model, dataloader=test_dataloader, loss_fn=loss_fn, device=device)\n",
        "\n",
        "        print(f\"Epoch: {epoch+1} | \", f\"train_loss: {train_loss:.4f} | \", f\"train_acc: {train_acc:.4f} | \", f\"test_loss: {test_loss:.4f} | \", f\"test_acc: {test_acc:.4f}\")\n",
        "\n",
        "        results[\"train_loss\"].append(train_loss)\n",
        "        results[\"train_acc\"].append(train_acc)\n",
        "        results[\"test_loss\"].append(test_loss)\n",
        "        results[\"test_acc\"].append(test_acc)\n",
        "\n",
        "    return results"
      ]
    },
    {
      "cell_type": "code",
      "execution_count": 33,
      "metadata": {
        "id": "4I4K2D_V6SN7",
        "outputId": "e0b89ba4-41e8-4bd4-c6c2-71139dd78c23",
        "colab": {
          "base_uri": "https://localhost:8080/"
        }
      },
      "outputs": [
        {
          "output_type": "stream",
          "name": "stderr",
          "text": [
            "  2%|▏         | 1/64 [01:03<1:06:59, 63.80s/it]"
          ]
        },
        {
          "output_type": "stream",
          "name": "stdout",
          "text": [
            "Epoch: 1 |  train_loss: 0.9985 |  train_acc: 0.5178 |  test_loss: 0.7177 |  test_acc: 0.5057\n"
          ]
        },
        {
          "output_type": "stream",
          "name": "stderr",
          "text": [
            "\r  3%|▎         | 2/64 [02:11<1:08:21, 66.15s/it]"
          ]
        },
        {
          "output_type": "stream",
          "name": "stdout",
          "text": [
            "Epoch: 2 |  train_loss: 0.7476 |  train_acc: 0.5227 |  test_loss: 0.6780 |  test_acc: 0.5739\n"
          ]
        },
        {
          "output_type": "stream",
          "name": "stderr",
          "text": [
            "\r  5%|▍         | 3/64 [03:16<1:06:39, 65.56s/it]"
          ]
        },
        {
          "output_type": "stream",
          "name": "stdout",
          "text": [
            "Epoch: 3 |  train_loss: 0.6990 |  train_acc: 0.5456 |  test_loss: 0.6982 |  test_acc: 0.5227\n"
          ]
        },
        {
          "output_type": "stream",
          "name": "stderr",
          "text": [
            "\r  6%|▋         | 4/64 [04:20<1:04:54, 64.91s/it]"
          ]
        },
        {
          "output_type": "stream",
          "name": "stdout",
          "text": [
            "Epoch: 4 |  train_loss: 0.7110 |  train_acc: 0.5254 |  test_loss: 0.6852 |  test_acc: 0.5483\n"
          ]
        },
        {
          "output_type": "stream",
          "name": "stderr",
          "text": [
            "\r  8%|▊         | 5/64 [05:25<1:03:51, 64.95s/it]"
          ]
        },
        {
          "output_type": "stream",
          "name": "stdout",
          "text": [
            "Epoch: 5 |  train_loss: 0.6903 |  train_acc: 0.5412 |  test_loss: 0.6757 |  test_acc: 0.5568\n"
          ]
        },
        {
          "output_type": "stream",
          "name": "stderr",
          "text": [
            "\r  9%|▉         | 6/64 [06:27<1:01:54, 64.04s/it]"
          ]
        },
        {
          "output_type": "stream",
          "name": "stdout",
          "text": [
            "Epoch: 6 |  train_loss: 0.6780 |  train_acc: 0.5698 |  test_loss: 0.6794 |  test_acc: 0.5625\n"
          ]
        },
        {
          "output_type": "stream",
          "name": "stderr",
          "text": [
            "\r 11%|█         | 7/64 [07:32<1:01:06, 64.33s/it]"
          ]
        },
        {
          "output_type": "stream",
          "name": "stdout",
          "text": [
            "Epoch: 7 |  train_loss: 0.6774 |  train_acc: 0.5612 |  test_loss: 0.6892 |  test_acc: 0.5540\n"
          ]
        },
        {
          "output_type": "stream",
          "name": "stderr",
          "text": [
            "\r 12%|█▎        | 8/64 [08:37<1:00:18, 64.61s/it]"
          ]
        },
        {
          "output_type": "stream",
          "name": "stdout",
          "text": [
            "Epoch: 8 |  train_loss: 0.6676 |  train_acc: 0.5839 |  test_loss: 0.6793 |  test_acc: 0.5597\n"
          ]
        },
        {
          "output_type": "stream",
          "name": "stderr",
          "text": [
            "\r 14%|█▍        | 9/64 [09:41<59:02, 64.40s/it]  "
          ]
        },
        {
          "output_type": "stream",
          "name": "stdout",
          "text": [
            "Epoch: 9 |  train_loss: 0.6771 |  train_acc: 0.5711 |  test_loss: 0.6824 |  test_acc: 0.5710\n"
          ]
        },
        {
          "output_type": "stream",
          "name": "stderr",
          "text": [
            "\r 16%|█▌        | 10/64 [10:46<58:10, 64.64s/it]"
          ]
        },
        {
          "output_type": "stream",
          "name": "stdout",
          "text": [
            "Epoch: 10 |  train_loss: 0.6799 |  train_acc: 0.5698 |  test_loss: 0.6841 |  test_acc: 0.5568\n"
          ]
        },
        {
          "output_type": "stream",
          "name": "stderr",
          "text": [
            "\r 17%|█▋        | 11/64 [11:51<56:58, 64.50s/it]"
          ]
        },
        {
          "output_type": "stream",
          "name": "stdout",
          "text": [
            "Epoch: 11 |  train_loss: 0.6764 |  train_acc: 0.5708 |  test_loss: 0.6774 |  test_acc: 0.5710\n"
          ]
        },
        {
          "output_type": "stream",
          "name": "stderr",
          "text": [
            "\r 19%|█▉        | 12/64 [12:54<55:29, 64.03s/it]"
          ]
        },
        {
          "output_type": "stream",
          "name": "stdout",
          "text": [
            "Epoch: 12 |  train_loss: 0.6715 |  train_acc: 0.5878 |  test_loss: 0.6848 |  test_acc: 0.5710\n"
          ]
        },
        {
          "output_type": "stream",
          "name": "stderr",
          "text": [
            "\r 20%|██        | 13/64 [13:58<54:31, 64.15s/it]"
          ]
        },
        {
          "output_type": "stream",
          "name": "stdout",
          "text": [
            "Epoch: 13 |  train_loss: 0.6709 |  train_acc: 0.5742 |  test_loss: 0.6705 |  test_acc: 0.5625\n"
          ]
        },
        {
          "output_type": "stream",
          "name": "stderr",
          "text": [
            "\r 22%|██▏       | 14/64 [15:01<53:14, 63.89s/it]"
          ]
        },
        {
          "output_type": "stream",
          "name": "stdout",
          "text": [
            "Epoch: 14 |  train_loss: 0.6690 |  train_acc: 0.5820 |  test_loss: 0.6634 |  test_acc: 0.5938\n"
          ]
        },
        {
          "output_type": "stream",
          "name": "stderr",
          "text": [
            "\r 23%|██▎       | 15/64 [16:05<52:15, 63.98s/it]"
          ]
        },
        {
          "output_type": "stream",
          "name": "stdout",
          "text": [
            "Epoch: 15 |  train_loss: 0.6631 |  train_acc: 0.5855 |  test_loss: 0.6708 |  test_acc: 0.5767\n"
          ]
        },
        {
          "output_type": "stream",
          "name": "stderr",
          "text": [
            "\r 25%|██▌       | 16/64 [17:10<51:13, 64.03s/it]"
          ]
        },
        {
          "output_type": "stream",
          "name": "stdout",
          "text": [
            "Epoch: 16 |  train_loss: 0.6637 |  train_acc: 0.6052 |  test_loss: 0.6668 |  test_acc: 0.5909\n"
          ]
        },
        {
          "output_type": "stream",
          "name": "stderr",
          "text": [
            "\r 27%|██▋       | 17/64 [18:13<50:03, 63.90s/it]"
          ]
        },
        {
          "output_type": "stream",
          "name": "stdout",
          "text": [
            "Epoch: 17 |  train_loss: 0.6615 |  train_acc: 0.5855 |  test_loss: 0.6728 |  test_acc: 0.5767\n"
          ]
        },
        {
          "output_type": "stream",
          "name": "stderr",
          "text": [
            "\r 28%|██▊       | 18/64 [19:18<49:18, 64.30s/it]"
          ]
        },
        {
          "output_type": "stream",
          "name": "stdout",
          "text": [
            "Epoch: 18 |  train_loss: 0.6548 |  train_acc: 0.6193 |  test_loss: 0.6669 |  test_acc: 0.5966\n"
          ]
        },
        {
          "output_type": "stream",
          "name": "stderr",
          "text": [
            "\r 30%|██▉       | 19/64 [20:23<48:18, 64.41s/it]"
          ]
        },
        {
          "output_type": "stream",
          "name": "stdout",
          "text": [
            "Epoch: 19 |  train_loss: 0.6446 |  train_acc: 0.6167 |  test_loss: 0.6651 |  test_acc: 0.5938\n"
          ]
        },
        {
          "output_type": "stream",
          "name": "stderr",
          "text": [
            "\r 31%|███▏      | 20/64 [21:27<47:08, 64.29s/it]"
          ]
        },
        {
          "output_type": "stream",
          "name": "stdout",
          "text": [
            "Epoch: 20 |  train_loss: 0.6533 |  train_acc: 0.5991 |  test_loss: 0.6673 |  test_acc: 0.5824\n"
          ]
        },
        {
          "output_type": "stream",
          "name": "stderr",
          "text": [
            "\r 33%|███▎      | 21/64 [22:32<46:05, 64.31s/it]"
          ]
        },
        {
          "output_type": "stream",
          "name": "stdout",
          "text": [
            "Epoch: 21 |  train_loss: 0.6368 |  train_acc: 0.6195 |  test_loss: 0.6674 |  test_acc: 0.5938\n"
          ]
        },
        {
          "output_type": "stream",
          "name": "stderr",
          "text": [
            "\r 34%|███▍      | 22/64 [23:35<44:54, 64.16s/it]"
          ]
        },
        {
          "output_type": "stream",
          "name": "stdout",
          "text": [
            "Epoch: 22 |  train_loss: 0.6455 |  train_acc: 0.6267 |  test_loss: 0.6885 |  test_acc: 0.5653\n"
          ]
        },
        {
          "output_type": "stream",
          "name": "stderr",
          "text": [
            "\r 36%|███▌      | 23/64 [24:40<43:59, 64.37s/it]"
          ]
        },
        {
          "output_type": "stream",
          "name": "stdout",
          "text": [
            "Epoch: 23 |  train_loss: 0.6379 |  train_acc: 0.6344 |  test_loss: 0.6641 |  test_acc: 0.5966\n"
          ]
        },
        {
          "output_type": "stream",
          "name": "stderr",
          "text": [
            "\r 38%|███▊      | 24/64 [25:44<42:48, 64.21s/it]"
          ]
        },
        {
          "output_type": "stream",
          "name": "stdout",
          "text": [
            "Epoch: 24 |  train_loss: 0.6422 |  train_acc: 0.6288 |  test_loss: 0.6862 |  test_acc: 0.5597\n"
          ]
        },
        {
          "output_type": "stream",
          "name": "stderr",
          "text": [
            "\r 39%|███▉      | 25/64 [26:47<41:32, 63.90s/it]"
          ]
        },
        {
          "output_type": "stream",
          "name": "stdout",
          "text": [
            "Epoch: 25 |  train_loss: 0.6345 |  train_acc: 0.6351 |  test_loss: 0.6896 |  test_acc: 0.5682\n"
          ]
        },
        {
          "output_type": "stream",
          "name": "stderr",
          "text": [
            "\r 41%|████      | 26/64 [27:57<41:30, 65.53s/it]"
          ]
        },
        {
          "output_type": "stream",
          "name": "stdout",
          "text": [
            "Epoch: 26 |  train_loss: 0.6306 |  train_acc: 0.6495 |  test_loss: 0.6798 |  test_acc: 0.5767\n"
          ]
        },
        {
          "output_type": "stream",
          "name": "stderr",
          "text": [
            "\r 42%|████▏     | 27/64 [29:02<40:20, 65.42s/it]"
          ]
        },
        {
          "output_type": "stream",
          "name": "stdout",
          "text": [
            "Epoch: 27 |  train_loss: 0.6163 |  train_acc: 0.6435 |  test_loss: 0.6954 |  test_acc: 0.5625\n"
          ]
        },
        {
          "output_type": "stream",
          "name": "stderr",
          "text": [
            "\r 44%|████▍     | 28/64 [30:06<38:59, 64.98s/it]"
          ]
        },
        {
          "output_type": "stream",
          "name": "stdout",
          "text": [
            "Epoch: 28 |  train_loss: 0.6230 |  train_acc: 0.6420 |  test_loss: 0.6781 |  test_acc: 0.5824\n"
          ]
        },
        {
          "output_type": "stream",
          "name": "stderr",
          "text": [
            "\r 45%|████▌     | 29/64 [31:10<37:46, 64.76s/it]"
          ]
        },
        {
          "output_type": "stream",
          "name": "stdout",
          "text": [
            "Epoch: 29 |  train_loss: 0.6139 |  train_acc: 0.6536 |  test_loss: 0.7056 |  test_acc: 0.5739\n"
          ]
        },
        {
          "output_type": "stream",
          "name": "stderr",
          "text": [
            "\r 47%|████▋     | 30/64 [32:15<36:40, 64.73s/it]"
          ]
        },
        {
          "output_type": "stream",
          "name": "stdout",
          "text": [
            "Epoch: 30 |  train_loss: 0.6162 |  train_acc: 0.6580 |  test_loss: 0.7259 |  test_acc: 0.5881\n"
          ]
        },
        {
          "output_type": "stream",
          "name": "stderr",
          "text": [
            "\r 48%|████▊     | 31/64 [33:18<35:27, 64.47s/it]"
          ]
        },
        {
          "output_type": "stream",
          "name": "stdout",
          "text": [
            "Epoch: 31 |  train_loss: 0.6054 |  train_acc: 0.6629 |  test_loss: 0.7116 |  test_acc: 0.5824\n"
          ]
        },
        {
          "output_type": "stream",
          "name": "stderr",
          "text": [
            "\r 50%|█████     | 32/64 [34:25<34:38, 64.96s/it]"
          ]
        },
        {
          "output_type": "stream",
          "name": "stdout",
          "text": [
            "Epoch: 32 |  train_loss: 0.5961 |  train_acc: 0.6779 |  test_loss: 0.7134 |  test_acc: 0.5511\n"
          ]
        },
        {
          "output_type": "stream",
          "name": "stderr",
          "text": [
            "\r 52%|█████▏    | 33/64 [35:30<33:39, 65.15s/it]"
          ]
        },
        {
          "output_type": "stream",
          "name": "stdout",
          "text": [
            "Epoch: 33 |  train_loss: 0.6046 |  train_acc: 0.6707 |  test_loss: 0.7201 |  test_acc: 0.5256\n"
          ]
        },
        {
          "output_type": "stream",
          "name": "stderr",
          "text": [
            "\r 53%|█████▎    | 34/64 [36:33<32:16, 64.54s/it]"
          ]
        },
        {
          "output_type": "stream",
          "name": "stdout",
          "text": [
            "Epoch: 34 |  train_loss: 0.5865 |  train_acc: 0.6763 |  test_loss: 0.7696 |  test_acc: 0.5284\n"
          ]
        },
        {
          "output_type": "stream",
          "name": "stderr",
          "text": [
            "\r 55%|█████▍    | 35/64 [37:38<31:10, 64.49s/it]"
          ]
        },
        {
          "output_type": "stream",
          "name": "stdout",
          "text": [
            "Epoch: 35 |  train_loss: 0.5951 |  train_acc: 0.6661 |  test_loss: 0.7094 |  test_acc: 0.5511\n"
          ]
        },
        {
          "output_type": "stream",
          "name": "stderr",
          "text": [
            "\r 56%|█████▋    | 36/64 [38:40<29:50, 63.94s/it]"
          ]
        },
        {
          "output_type": "stream",
          "name": "stdout",
          "text": [
            "Epoch: 36 |  train_loss: 0.5940 |  train_acc: 0.6757 |  test_loss: 0.7423 |  test_acc: 0.5568\n"
          ]
        },
        {
          "output_type": "stream",
          "name": "stderr",
          "text": [
            "\r 58%|█████▊    | 37/64 [39:46<28:59, 64.41s/it]"
          ]
        },
        {
          "output_type": "stream",
          "name": "stdout",
          "text": [
            "Epoch: 37 |  train_loss: 0.5719 |  train_acc: 0.6951 |  test_loss: 0.7229 |  test_acc: 0.5483\n"
          ]
        },
        {
          "output_type": "stream",
          "name": "stderr",
          "text": [
            "\r 59%|█████▉    | 38/64 [40:51<27:58, 64.56s/it]"
          ]
        },
        {
          "output_type": "stream",
          "name": "stdout",
          "text": [
            "Epoch: 38 |  train_loss: 0.5705 |  train_acc: 0.6928 |  test_loss: 0.7372 |  test_acc: 0.5653\n"
          ]
        },
        {
          "output_type": "stream",
          "name": "stderr",
          "text": [
            "\r 61%|██████    | 39/64 [41:55<26:49, 64.36s/it]"
          ]
        },
        {
          "output_type": "stream",
          "name": "stdout",
          "text": [
            "Epoch: 39 |  train_loss: 0.5559 |  train_acc: 0.7096 |  test_loss: 0.7946 |  test_acc: 0.5568\n"
          ]
        },
        {
          "output_type": "stream",
          "name": "stderr",
          "text": [
            "\r 62%|██████▎   | 40/64 [43:00<25:49, 64.57s/it]"
          ]
        },
        {
          "output_type": "stream",
          "name": "stdout",
          "text": [
            "Epoch: 40 |  train_loss: 0.5731 |  train_acc: 0.6994 |  test_loss: 0.7098 |  test_acc: 0.5511\n"
          ]
        },
        {
          "output_type": "stream",
          "name": "stderr",
          "text": [
            "\r 64%|██████▍   | 41/64 [44:05<24:48, 64.73s/it]"
          ]
        },
        {
          "output_type": "stream",
          "name": "stdout",
          "text": [
            "Epoch: 41 |  train_loss: 0.5510 |  train_acc: 0.7091 |  test_loss: 0.7250 |  test_acc: 0.5625\n"
          ]
        },
        {
          "output_type": "stream",
          "name": "stderr",
          "text": [
            "\r 66%|██████▌   | 42/64 [45:08<23:34, 64.29s/it]"
          ]
        },
        {
          "output_type": "stream",
          "name": "stdout",
          "text": [
            "Epoch: 42 |  train_loss: 0.5533 |  train_acc: 0.7090 |  test_loss: 0.7609 |  test_acc: 0.5653\n"
          ]
        },
        {
          "output_type": "stream",
          "name": "stderr",
          "text": [
            "\r 67%|██████▋   | 43/64 [46:12<22:26, 64.10s/it]"
          ]
        },
        {
          "output_type": "stream",
          "name": "stdout",
          "text": [
            "Epoch: 43 |  train_loss: 0.5548 |  train_acc: 0.7080 |  test_loss: 0.7299 |  test_acc: 0.5597\n"
          ]
        },
        {
          "output_type": "stream",
          "name": "stderr",
          "text": [
            "\r 69%|██████▉   | 44/64 [47:13<21:05, 63.29s/it]"
          ]
        },
        {
          "output_type": "stream",
          "name": "stdout",
          "text": [
            "Epoch: 44 |  train_loss: 0.5324 |  train_acc: 0.7184 |  test_loss: 0.8143 |  test_acc: 0.5511\n"
          ]
        },
        {
          "output_type": "stream",
          "name": "stderr",
          "text": [
            "\r 70%|███████   | 45/64 [48:16<20:00, 63.17s/it]"
          ]
        },
        {
          "output_type": "stream",
          "name": "stdout",
          "text": [
            "Epoch: 45 |  train_loss: 0.5312 |  train_acc: 0.7304 |  test_loss: 0.7345 |  test_acc: 0.5597\n"
          ]
        },
        {
          "output_type": "stream",
          "name": "stderr",
          "text": [
            "\r 72%|███████▏  | 46/64 [49:20<19:00, 63.37s/it]"
          ]
        },
        {
          "output_type": "stream",
          "name": "stdout",
          "text": [
            "Epoch: 46 |  train_loss: 0.5241 |  train_acc: 0.7358 |  test_loss: 0.8214 |  test_acc: 0.5625\n"
          ]
        },
        {
          "output_type": "stream",
          "name": "stderr",
          "text": [
            "\r 73%|███████▎  | 47/64 [50:23<17:56, 63.33s/it]"
          ]
        },
        {
          "output_type": "stream",
          "name": "stdout",
          "text": [
            "Epoch: 47 |  train_loss: 0.4975 |  train_acc: 0.7631 |  test_loss: 0.9055 |  test_acc: 0.5824\n"
          ]
        },
        {
          "output_type": "stream",
          "name": "stderr",
          "text": [
            "\r 75%|███████▌  | 48/64 [51:25<16:48, 63.01s/it]"
          ]
        },
        {
          "output_type": "stream",
          "name": "stdout",
          "text": [
            "Epoch: 48 |  train_loss: 0.5182 |  train_acc: 0.7275 |  test_loss: 0.7760 |  test_acc: 0.5682\n"
          ]
        },
        {
          "output_type": "stream",
          "name": "stderr",
          "text": [
            "\r 77%|███████▋  | 49/64 [52:29<15:48, 63.21s/it]"
          ]
        },
        {
          "output_type": "stream",
          "name": "stdout",
          "text": [
            "Epoch: 49 |  train_loss: 0.4882 |  train_acc: 0.7597 |  test_loss: 0.8446 |  test_acc: 0.5682\n"
          ]
        },
        {
          "output_type": "stream",
          "name": "stderr",
          "text": [
            "\r 78%|███████▊  | 50/64 [53:34<14:52, 63.72s/it]"
          ]
        },
        {
          "output_type": "stream",
          "name": "stdout",
          "text": [
            "Epoch: 50 |  train_loss: 0.5162 |  train_acc: 0.7469 |  test_loss: 0.7184 |  test_acc: 0.5767\n"
          ]
        },
        {
          "output_type": "stream",
          "name": "stderr",
          "text": [
            "\r 80%|███████▉  | 51/64 [54:39<13:52, 64.07s/it]"
          ]
        },
        {
          "output_type": "stream",
          "name": "stdout",
          "text": [
            "Epoch: 51 |  train_loss: 0.5162 |  train_acc: 0.7405 |  test_loss: 0.7610 |  test_acc: 0.5710\n"
          ]
        },
        {
          "output_type": "stream",
          "name": "stderr",
          "text": [
            "\r 81%|████████▏ | 52/64 [55:43<12:51, 64.26s/it]"
          ]
        },
        {
          "output_type": "stream",
          "name": "stdout",
          "text": [
            "Epoch: 52 |  train_loss: 0.4828 |  train_acc: 0.7746 |  test_loss: 0.7726 |  test_acc: 0.5682\n"
          ]
        },
        {
          "output_type": "stream",
          "name": "stderr",
          "text": [
            "\r 83%|████████▎ | 53/64 [56:48<11:48, 64.37s/it]"
          ]
        },
        {
          "output_type": "stream",
          "name": "stdout",
          "text": [
            "Epoch: 53 |  train_loss: 0.4964 |  train_acc: 0.7561 |  test_loss: 0.7649 |  test_acc: 0.5739\n"
          ]
        },
        {
          "output_type": "stream",
          "name": "stderr",
          "text": [
            "\r 84%|████████▍ | 54/64 [57:54<10:49, 64.93s/it]"
          ]
        },
        {
          "output_type": "stream",
          "name": "stdout",
          "text": [
            "Epoch: 54 |  train_loss: 0.4887 |  train_acc: 0.7595 |  test_loss: 0.7871 |  test_acc: 0.5739\n"
          ]
        },
        {
          "output_type": "stream",
          "name": "stderr",
          "text": [
            "\r 86%|████████▌ | 55/64 [59:02<09:51, 65.71s/it]"
          ]
        },
        {
          "output_type": "stream",
          "name": "stdout",
          "text": [
            "Epoch: 55 |  train_loss: 0.4712 |  train_acc: 0.7839 |  test_loss: 0.8169 |  test_acc: 0.5653\n"
          ]
        },
        {
          "output_type": "stream",
          "name": "stderr",
          "text": [
            "\r 88%|████████▊ | 56/64 [1:00:10<08:51, 66.47s/it]"
          ]
        },
        {
          "output_type": "stream",
          "name": "stdout",
          "text": [
            "Epoch: 56 |  train_loss: 0.4902 |  train_acc: 0.7545 |  test_loss: 0.9053 |  test_acc: 0.5653\n"
          ]
        },
        {
          "output_type": "stream",
          "name": "stderr",
          "text": [
            "\r 89%|████████▉ | 57/64 [1:01:20<07:52, 67.56s/it]"
          ]
        },
        {
          "output_type": "stream",
          "name": "stdout",
          "text": [
            "Epoch: 57 |  train_loss: 0.4636 |  train_acc: 0.7780 |  test_loss: 0.8291 |  test_acc: 0.5795\n"
          ]
        },
        {
          "output_type": "stream",
          "name": "stderr",
          "text": [
            "\r 91%|█████████ | 58/64 [1:02:30<06:49, 68.21s/it]"
          ]
        },
        {
          "output_type": "stream",
          "name": "stdout",
          "text": [
            "Epoch: 58 |  train_loss: 0.4712 |  train_acc: 0.7759 |  test_loss: 0.8520 |  test_acc: 0.5653\n"
          ]
        },
        {
          "output_type": "stream",
          "name": "stderr",
          "text": [
            "\r 92%|█████████▏| 59/64 [1:03:41<05:44, 68.98s/it]"
          ]
        },
        {
          "output_type": "stream",
          "name": "stdout",
          "text": [
            "Epoch: 59 |  train_loss: 0.4589 |  train_acc: 0.7722 |  test_loss: 0.8101 |  test_acc: 0.5625\n"
          ]
        },
        {
          "output_type": "stream",
          "name": "stderr",
          "text": [
            "\r 94%|█████████▍| 60/64 [1:04:47<04:32, 68.12s/it]"
          ]
        },
        {
          "output_type": "stream",
          "name": "stdout",
          "text": [
            "Epoch: 60 |  train_loss: 0.4313 |  train_acc: 0.8032 |  test_loss: 0.8859 |  test_acc: 0.5369\n"
          ]
        },
        {
          "output_type": "stream",
          "name": "stderr",
          "text": [
            "\r 95%|█████████▌| 61/64 [1:05:52<03:21, 67.33s/it]"
          ]
        },
        {
          "output_type": "stream",
          "name": "stdout",
          "text": [
            "Epoch: 61 |  train_loss: 0.4667 |  train_acc: 0.7746 |  test_loss: 0.8459 |  test_acc: 0.5938\n"
          ]
        },
        {
          "output_type": "stream",
          "name": "stderr",
          "text": [
            "\r 97%|█████████▋| 62/64 [1:06:57<02:13, 66.64s/it]"
          ]
        },
        {
          "output_type": "stream",
          "name": "stdout",
          "text": [
            "Epoch: 62 |  train_loss: 0.4220 |  train_acc: 0.8094 |  test_loss: 0.9572 |  test_acc: 0.5455\n"
          ]
        },
        {
          "output_type": "stream",
          "name": "stderr",
          "text": [
            "\r 98%|█████████▊| 63/64 [1:08:02<01:05, 65.96s/it]"
          ]
        },
        {
          "output_type": "stream",
          "name": "stdout",
          "text": [
            "Epoch: 63 |  train_loss: 0.4473 |  train_acc: 0.7931 |  test_loss: 0.9060 |  test_acc: 0.5568\n"
          ]
        },
        {
          "output_type": "stream",
          "name": "stderr",
          "text": [
            "100%|██████████| 64/64 [1:09:10<00:00, 64.85s/it]"
          ]
        },
        {
          "output_type": "stream",
          "name": "stdout",
          "text": [
            "Epoch: 64 |  train_loss: 0.4338 |  train_acc: 0.8009 |  test_loss: 0.8729 |  test_acc: 0.5767\n"
          ]
        },
        {
          "output_type": "stream",
          "name": "stderr",
          "text": [
            "\n"
          ]
        }
      ],
      "source": [
        "history = train(model, train_dataloader, test_dataloader, torch.optim.Adam(model.parameters()), torch.nn.CrossEntropyLoss(), 64, device=device)"
      ]
    },
    {
      "cell_type": "code",
      "source": [
        "final_test_loss, final_test_acc = test_step(model, all_dataloader, torch.nn.CrossEntropyLoss(), device)\n",
        "print('final test loss:', final_test_loss, sep='\\t')\n",
        "print('final test accuracy:', final_test_acc, sep='\\t')"
      ],
      "metadata": {
        "id": "s5TCFMFf_sof",
        "colab": {
          "base_uri": "https://localhost:8080/"
        },
        "outputId": "2f9f0fa1-baba-46a1-a38b-57b4df084455"
      },
      "execution_count": 34,
      "outputs": [
        {
          "output_type": "stream",
          "name": "stdout",
          "text": [
            "final test loss:\t0.4606794179127749\n",
            "final test accuracy:\t0.80487012987013\n"
          ]
        }
      ]
    },
    {
      "cell_type": "code",
      "source": [
        "def save_model(model, name):\n",
        "    model_save_path = '/content/drive/MyDrive/ET/models/' + name + '.pt'\n",
        "    print(f'Saving model to: {model_save_path}')\n",
        "    torch.save(obj=model.state_dict(), f=model_save_path)"
      ],
      "metadata": {
        "id": "JF1E3ta07NiK"
      },
      "execution_count": 37,
      "outputs": []
    },
    {
      "cell_type": "code",
      "source": [
        "save_model(model, 'model1')"
      ],
      "metadata": {
        "id": "Mt_bI0Q1-RY8",
        "colab": {
          "base_uri": "https://localhost:8080/"
        },
        "outputId": "d6068ce7-5b2d-4a69-f537-578a6d67f82b"
      },
      "execution_count": 38,
      "outputs": [
        {
          "output_type": "stream",
          "name": "stdout",
          "text": [
            "Saving model to: /content/drive/MyDrive/ET/models/model1.pt\n"
          ]
        }
      ]
    },
    {
      "cell_type": "code",
      "source": [],
      "metadata": {
        "id": "6yqoDjNEViMs"
      },
      "execution_count": null,
      "outputs": []
    }
  ],
  "metadata": {
    "kernelspec": {
      "display_name": "Python 3",
      "language": "python",
      "name": "python3"
    },
    "language_info": {
      "codemirror_mode": {
        "name": "ipython",
        "version": 3
      },
      "file_extension": ".py",
      "mimetype": "text/x-python",
      "name": "python",
      "nbconvert_exporter": "python",
      "pygments_lexer": "ipython3",
      "version": "3.8.11"
    },
    "colab": {
      "provenance": [],
      "gpuType": "T4"
    },
    "accelerator": "GPU",
    "gpuClass": "standard"
  },
  "nbformat": 4,
  "nbformat_minor": 0
}